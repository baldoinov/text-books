{
 "cells": [
  {
   "cell_type": "markdown",
   "metadata": {},
   "source": [
    "# Análise de Regressão"
   ]
  },
  {
   "cell_type": "markdown",
   "metadata": {},
   "source": [
    "***\n",
    "\n",
    "## Teoria Econômica\n",
    "\n",
    "Nesta seção, escrevemos a teoria econômica (artigos, livros, publicações etc) que embasam a nossa análise. Comece fazendo uma introdução do tema e depois uma breve revisão literatura teórica e empírica do seu tema de pesquisa. Além disso, aqui também devem ir as hipóteses que testaremos na parte de [Inferência Estatística](#inferência-estatística)."
   ]
  },
  {
   "cell_type": "markdown",
   "metadata": {},
   "source": []
  },
  {
   "cell_type": "markdown",
   "metadata": {},
   "source": [
    "***\n",
    "\n",
    "## Descrição e Tratamento dos Dados\n",
    "\n",
    "Nesta seção devem ir as informações de:\n",
    "\n",
    "- Tipos dos dados de forma geral (dados de cross-section, painel, etc) e 'metadados' deles.\n",
    "- Tipos computacionais dos campos da base.\n",
    "- Visualização simples da base (`df.head()`).\n",
    "- Comentários sobre valores únicos e valores faltantes.\n",
    "\n",
    "\n",
    "Além disso, antes de passarmos para a estimação dos modelos de regressão, é necessário tratar os dados da base. Para isso, seguimos os seguintes passos:\n",
    "\n",
    "- Remover dados faltantes.\n",
    "- Normalizar (deixar entre 0 e 1), padronizar ou aplicar $logs$ nos dados contínuos. Esse passo depende diretamente do que será feito na etapa de estimação, nem todos os modelos dependem desse tratamento.\n",
    "\n",
    "***\n"
   ]
  },
  {
   "cell_type": "code",
   "execution_count": null,
   "metadata": {},
   "outputs": [],
   "source": []
  },
  {
   "cell_type": "markdown",
   "metadata": {},
   "source": [
    "***\n",
    "\n",
    "## Análise Exploratória\n",
    "\n",
    "Nesta seção olhamos as características básicas da nossa base de dados. Tais como:\n",
    "\n",
    "- Medidas de tendência central, como ***médias (aritimética, ponderada, harmônica e geométrica), mediana e moda***.\n",
    "- Medidas de dispersão, como ***range, variância, desvio e desvio-padrão***.\n",
    "- Comentários sobre a ***distribuição*** dos valores das variáveis.\n",
    "- Medidas de associação entre variáveis, como a ***correlação*** e seus diferentes tipos.\n",
    "- Aqui também é útil fazer uso intensivo de gráficos. Alguns exemplos dos que podem ser utilizados são:\n",
    "  - Histogramas\n",
    "  - Gráficos de barras/linhas/pizza\n",
    "  - Boxplots\n",
    "  - Gráficos de dispersão\n",
    "  - Pair plots\n",
    "  - Heatmaps, etc"
   ]
  },
  {
   "cell_type": "code",
   "execution_count": null,
   "metadata": {},
   "outputs": [],
   "source": []
  },
  {
   "cell_type": "markdown",
   "metadata": {},
   "source": [
    "***\n",
    "\n",
    "## Modelos de Regressão\n",
    "\n",
    "Essa etapa é uma das mais simples e envolve bastante escrita. Nela, nós:\n",
    "\n",
    "- Estimamos alguns modelos de regressão linear (simples ou múltipla, com mais ou menos variáveis).\n",
    "- Interpretamos os resultados. Aqui, é interessante ter o seguinte texto em mente:\n",
    "\n",
    "> ***Extraído do livro Econometria Básica, cap. 05, Gujarati e Porter***.\n",
    "> \n",
    "> Voltemos ao Exemplo 3.2 sobre despesas com alimentos na Índia. Usando os dados fornecidos na Equação (3.7.2) e adotando o formato da Equação (5.11.1), obtemos a seguinte equação de despesas:\n",
    "> \n",
    "> $$ \\hat{\\text{DespAlimentação}}_i = 94,2087 + 0,4368 \\text{TotalExp}_i$$ \n",
    "> $$ep = (50,8563) (0,0783)$$\n",
    "> $$t = (1,8524) (5,5770)$$\n",
    "> $$p = (0,0695) (0,0000)*$$\n",
    "> $$r^2 = 0,3698 \\text{ ; } gl = 53$$\n",
    "> $$F_{1, 53} = 31,1034 (\\text{valor p} = 0,0000)*$$\n",
    "> \n",
    "> em que “*” denota extremamente pequeno.\n",
    ">\n",
    ">   Primeiro, vamos interpretar a regressão. Como esperado, existe uma relação positiva entre despesas com alimentos e despesa total. Se a despesa total aumentar em uma rupia, em média, a despesa com alimentação aumentará em cerca de 44 países. Se a despesa total for zero, em média a despesa com alimentação será de 94 rupias. Obviamente, essa interpretação mecânica do intercepto pode não fazer muito sentido econômico. O valor de $r^2$, cerca de\n",
    "0,37, significa que 37% da variação na despesa com alimentos é explicada pela despesa total, uma proxy para a renda.\n",
    ">\n",
    ">   Suponha que queiramos testar a hipótese nula de que não há relação entre despesa com alimentação e despesa total, que o coeficiente angular verdadeiro $\\beta_2 = 0$. O valor estimado de $\\beta_2$ é 0,4368. Se a hipótese nula fosse verdadeira, qual seria a probabilidade de obter um valor de 0,4368? Sob a hipótese nula, observamos na Equação (5.12.2) que o valor *t* é 5,5770 e o valor *p* de obter esse valor *t* é praticamente igual a zero. Em outras palavras, podemos rejeitar totalmente a hipótese nula. Mas suponha que a hipótese nula seja $\\beta_2 = 0,5$. E agora? Recorrendo ao teste *t*, obtemos:\n",
    "> \n",
    "> $$t = \\frac{0,4368 - 0,5}{0,0783} = -0,8071$$\n",
    "> \n",
    "> A probabilidade de obter um $|t|$ de 0,8071 é de mais de 20%. Portanto, não rejeitamos a hipótese de que o verdadeiro $\\beta_2$ seja 0,5.\n",
    ">\n",
    "> Usando os resíduos estimados da regressão, o que podemos dizer sobre a distribuição de probabilidade do termo de erro? Essa informação está na Figura 5.9. Como a Figura 5.9 indica, os resíduos da regressão da despesa com alimentos parecem ter uma distribuição simétrica. A aplicação do teste Jarque-Bera mostra que a estatística *JB* é de cerca de 0,2576, e que a probabilidade de obter esse número, sob uma premissa de distribuição normal, é de cerca de 88%. Portanto, não rejeitamos a hipótese de que os termos de erro se distribuam normalmente. Mas tenha em mente que o tamanho da amostra de 55 observações pode não ser suficientemente grande.\n",
    "> \n",
    "> ![](assets/2022-05-25-11-03-53.png)\n",
    "\n",
    "\n",
    "\n",
    "- O texto acima é um bom referencial sobre como escrever uma interpretação dos resultados da regressão.\n",
    "- Lembre-se de escrever um texto desses para cada um dos modelos estimados (não se preocupe com espaço, os notebooks não são a versão final). "
   ]
  },
  {
   "cell_type": "code",
   "execution_count": null,
   "metadata": {},
   "outputs": [],
   "source": []
  },
  {
   "cell_type": "markdown",
   "metadata": {},
   "source": [
    "***\n",
    "\n",
    "## Testes de Aderência\n",
    "\n",
    "A ideia nesta seção é testar a distribuição dos dados e se os resultados da regressão respeitam as hipóteses do modelo de regressão linear. Tendo isso em mente, nós podemos:\n",
    "\n",
    "- Testes da distribuição das variáveis utilizadas:\n",
    "  - Teste de Ryan-Joiner \n",
    "  - Teste de Shapiro-Wilkis\n",
    "  - Teste de Anderson-Darling\n",
    "  - Teste de Kolmogorov-Smirnov\n",
    "- Testes da distribuição dos resíduos da regressão\n",
    "  - Histograma de resíduos\n",
    "  - Representação da probabilidade normal\n",
    "  - Teste Jarque-Bera\n",
    "- Verificação de multicolinearidade no modelo\n",
    "  - Gráficos de correlação e tabelas de correlação"
   ]
  },
  {
   "cell_type": "code",
   "execution_count": null,
   "metadata": {},
   "outputs": [],
   "source": []
  },
  {
   "cell_type": "markdown",
   "metadata": {},
   "source": [
    "***\n",
    "\n",
    "## Inferência Estatística\n",
    "\n",
    "Nesta seção, iremos verificar se os parâmetros estimados na regressão são significativos do ponto de vista estatístico. Para isso, possuímos no nosso arsenal alguns testes (lembre-se, eles podem ser feitos de maneira unilateral ou bilateral) que devem ser utilizados para testar as hipóteses definidas na seção de [Teoria Econômica](#teoria-econômica):\n",
    "\n",
    "- Teste *t*\n",
    "  - Utilizado para testar o valor dos $\\hat{\\beta}$ da regressão.\n",
    "  - Bicaudal: $H_0: \\beta_1 = \\beta^*_1$ e $H_1: \\beta_1 \\ne \\beta^*_1$\n",
    "  - Cauda direita: $H_0: \\beta_1 \\leq \\beta^*_1$ e $H_1: \\beta_1 > \\beta^*_1$\n",
    "  - Cauda esquerda: $H_0: \\beta_1 \\geq \\beta^*_1$ e $H_1: \\beta_1 < \\beta^*_1$\n",
    "- Teste $\\chi^2$\n",
    "  - Utilizado para testar a variância estimada da população ($\\hat{\\sigma}^2$)\n",
    "- Teste F\n",
    "  - Utilizado para teste se um conjunto de parâmetros estimados é diferente de 0.\n"
   ]
  },
  {
   "cell_type": "code",
   "execution_count": null,
   "metadata": {},
   "outputs": [],
   "source": []
  }
 ],
 "metadata": {
  "language_info": {
   "name": "python"
  },
  "orig_nbformat": 4
 },
 "nbformat": 4,
 "nbformat_minor": 2
}
