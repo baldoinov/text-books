{
 "cells": [
  {
   "cell_type": "markdown",
   "metadata": {},
   "source": [
    "# <center> Capítulo 06 - Econometria Básica - Gujarati e Porter </center>\n",
    "\n",
    "***"
   ]
  },
  {
   "cell_type": "code",
   "execution_count": 1,
   "metadata": {},
   "outputs": [],
   "source": [
    "import pandas as pd\n",
    "import numpy as np\n",
    "import seaborn as sns\n",
    "import matplotlib.pyplot as plt\n",
    "import statsmodels.api as sm\n",
    "\n",
    "plt.style.use(['science', 'notebook', 'grid'])"
   ]
  },
  {
   "cell_type": "markdown",
   "metadata": {},
   "source": [
    "## Resumo\n",
    "\n",
    "***Regressão que passa pela origem***:\n",
    "\n",
    "- Modelo com o intercepto ausente: $$Y_i = \\beta_2 X_i + u_i$$\n",
    "\n",
    "- A diferença deste modelo com o clássico é que usamos *somas brutas* de quadrados e multiplicações entre variáveis (não ajustadas pela média).\n",
    "  - No modelo clássico, a fórmula de estimação de $\\beta_2$ é: \n",
    "    $$\\hat{\\beta}_2 = \\frac{\\sum (X_i - \\overline{X})(Y_i - \\overline{Y_i})}{\\sum (X_i - \\overline{X})^2}$$\n",
    "  - Já no modelo sem intercepto, temos:\n",
    "    $$\\hat{\\beta}_2 = \\frac{\\sum X_i Y_i}{\\sum X^2_i}$$\n",
    "\n",
    "- No modelo sem intercepto, a soma do termo de erro $\\sum \\hat{u}_i$ não precisa ser zero. \n",
    "\n",
    "- Em alguns casos, o $r^2$ do modelo sem intercepto é ***negativo***. Isso acontece porque o $r^2$ do modelo clássico assume explicitamente que o intercepto é presente.\n",
    "  - Para evitar o uso do $r^2$ convencional, nós utilizamos o $r^2 \\text{bruto}$: $$r^2 \\text{bruto} = \\frac{(\\sum X_i Y_i)^2}{\\sum X^2_i \\sum Y^2_i}$$\n",
    "  \n",
    "  - Novamente, essa fórmula utiliza de somas e multiplicações ***brutas***. Além disso, esse $r^2 \\text{bruto}$ não pode ser comparado diretamente ao valor do $r^2$ convencional\n",
    "\n",
    "- > Devido às características especiais desse modelo, é preciso ter muito cuidado ao usá-lo. A\n",
    "menos que exista uma expectativa a priori muito forte, seria aconselhável ater-se ao modelo convencional em que o intercepto está presente. Isso tem uma dupla vantagem. Primeiro, se o termo de intercepto estiver incluído no modelo, mas revelar-se estatisticamente desprezível (isto é, estatisticamente igual a zero), para todos os fins práticos, teremos uma regressão que passa pela origem. Segundo, e mais importante, se de fato existir um intercepto no modelo, mas insistirmos em ajustar uma regressão que passa pela origem, estaremos cometendo um erro de especificação. \n",
    "\n",
    "\n",
    "***Escalas e unidades de medida***:\n",
    "\n",
    "- \n",
    "\n",
    "***Variáveis padronizadas***:\n",
    "\n",
    "- \n",
    "\n",
    "***Modelo log-log ou log-linear***:\n",
    "\n",
    "- Na minha opinião o nome \"``log-linear``\" não faz sentido quando estamos falando de modelo do estilo $ln Y_i = \\alpha + \\beta_2 lnX_i + u_i$, irei utilizar \"``log-log``\" para tratar desses modelos e \"``log-linear``\" para tratar de modelos do estilo $ln Y_i = \\alpha + \\beta_2 X_i + u_i$\n",
    "\n",
    "\n",
    "***Modelos semilogarítmicos (``log-lin`` e ``lin-log``):***\n",
    "\n",
    "- \n",
    "\n",
    "***Modelos recíprocos***:\n",
    "\n",
    "- \n",
    "\n",
    "***Tabela de Resumo - Formas Funcionais e Elasticidades***:\n",
    "\n",
    "\n",
    "| Modelo | Equação | Coeficiente angular ($= \\frac{dY}{dX}$) | Elasticidade ($= \\frac{dY}{dX} \\frac{X}{Y}$) |\n",
    "| --- | --- | --- | --- | \n",
    "| Linear | $Y = \\beta_1 + \\beta_2 X$ | $\\beta_2$ | $\\beta_2 (\\frac{X}{Y})^*$ |\n",
    "| Log-log | $ln Y = \\beta_1 + \\beta_2 ln X$ | $\\beta_2 (\\frac{Y}{X})$ | $\\beta_2$ |\n",
    "| Log-lin | $ln Y = \\beta_1 + \\beta_2 X$ | $\\beta_2 (Y)$ | $\\beta_2 (X)^*$ |\n",
    "| Lin-log | $Y = \\beta_1 + \\beta_2 ln X$ | $\\beta_2 (\\frac{1}{X})$ | $\\beta_2 (\\frac{1}{Y})^*$ |\n",
    "| Recíproco | $Y = \\beta_1 + \\beta_2 (\\frac{1}{X})$ | $- \\beta_2 (\\frac{1}{X^2})$ | $- \\beta_2 (\\frac{1}{XY})^*$ |\n",
    "| Log recíproco | $ln Y = \\beta_1 - \\beta_2 (\\frac{1}{X})$ | $\\beta_2 (\\frac{Y}{X^2})$ | $\\beta_2 (\\frac{1}{X})^*$ |\n"
   ]
  },
  {
   "cell_type": "code",
   "execution_count": null,
   "metadata": {},
   "outputs": [],
   "source": []
  }
 ],
 "metadata": {
  "kernelspec": {
   "display_name": "Python 3.8.6 64-bit",
   "language": "python",
   "name": "python3"
  },
  "language_info": {
   "codemirror_mode": {
    "name": "ipython",
    "version": 3
   },
   "file_extension": ".py",
   "mimetype": "text/x-python",
   "name": "python",
   "nbconvert_exporter": "python",
   "pygments_lexer": "ipython3",
   "version": "3.8.6"
  },
  "orig_nbformat": 4,
  "vscode": {
   "interpreter": {
    "hash": "7cfd136509320d90c1cb01fa03d1b7c3436995b65c6c0a2aec6badd76f1b3eb8"
   }
  }
 },
 "nbformat": 4,
 "nbformat_minor": 2
}
