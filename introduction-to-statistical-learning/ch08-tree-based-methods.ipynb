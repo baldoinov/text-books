{
 "cells": [
  {
   "cell_type": "markdown",
   "metadata": {},
   "source": [
    "# Chapter 08 - Tree Based Methods\n",
    "---"
   ]
  },
  {
   "cell_type": "markdown",
   "metadata": {},
   "source": [
    "> These involve stratifying or segmenting the predictor space into a number of simple regions.\n",
    "\n",
    "> Therefore, a better strategy is to grow a very large tree $T_0$, and then prune it back in order to obtain a subtree. Intuitively, our goal is to select a subtree that leads to the lowest test error rate.\n",
    ">\n",
    "> Cost complexity pruning—also known as weakest link pruning—gives us a way to do just this."
   ]
  },
  {
   "cell_type": "markdown",
   "metadata": {},
   "source": [
    "## Regresseion Tree"
   ]
  },
  {
   "cell_type": "markdown",
   "metadata": {},
   "source": [
    "- sginificado de bootstrapped\n",
    "- ver explicação de bagging em outro lugar\n",
    "- ver explicação de random forest em outro lugar"
   ]
  },
  {
   "cell_type": "code",
   "execution_count": null,
   "metadata": {},
   "outputs": [],
   "source": []
  }
 ],
 "metadata": {
  "kernelspec": {
   "display_name": ".venv",
   "language": "python",
   "name": "python3"
  },
  "language_info": {
   "name": "python",
   "version": "3.9.13"
  },
  "orig_nbformat": 4
 },
 "nbformat": 4,
 "nbformat_minor": 2
}
