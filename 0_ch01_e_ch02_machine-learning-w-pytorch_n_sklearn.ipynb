{
  "nbformat": 4,
  "nbformat_minor": 0,
  "metadata": {
    "colab": {
      "provenance": [],
      "authorship_tag": "ABX9TyP7PxhyozKk6F0oHCOb5+1h",
      "include_colab_link": true
    },
    "kernelspec": {
      "name": "python3",
      "display_name": "Python 3"
    },
    "language_info": {
      "name": "python"
    }
  },
  "cells": [
    {
      "cell_type": "markdown",
      "metadata": {
        "id": "view-in-github",
        "colab_type": "text"
      },
      "source": [
        "<a href=\"https://colab.research.google.com/github/baldoinov/text-books/blob/main/0_ch01_e_ch02_machine-learning-w-pytorch_n_sklearn.ipynb\" target=\"_parent\"><img src=\"https://colab.research.google.com/assets/colab-badge.svg\" alt=\"Open In Colab\"/></a>"
      ]
    },
    {
      "cell_type": "markdown",
      "source": [
        "# <center>Machine Learning with PyTorch and Sklearn - Raschka, Liu, and Mirjalili</center>\n",
        "## <center>Chapters 01 and 02</center>\n",
        "### <center>Types of Learning and Simple Classifiers</center>\n",
        "\n",
        "***"
      ],
      "metadata": {
        "id": "utQF9Zz87UXS"
      }
    },
    {
      "cell_type": "markdown",
      "source": [
        "## Resumo\n",
        "\n",
        "***"
      ],
      "metadata": {
        "id": "9b7N-MIzDTgT"
      }
    },
    {
      "cell_type": "code",
      "execution_count": 1,
      "metadata": {
        "id": "5cMJ5BLhOeBK"
      },
      "outputs": [],
      "source": [
        "import pandas as pd\n",
        "import numpy as np\n",
        "import matplotlib.pyplot as plt\n",
        "from sklearn import datasets\n",
        "\n",
        "iris = datasets.load_iris()"
      ]
    },
    {
      "cell_type": "markdown",
      "source": [
        "## Perceptron\n",
        "***"
      ],
      "metadata": {
        "id": "khV_hTfODoD0"
      }
    },
    {
      "cell_type": "code",
      "source": [
        "class Perceptron:\n",
        "  \"\"\"Perceptron classifier.\"\"\"\n",
        "  def __init__(self, eta=0.01, n_iter=50, random_state=1):\n",
        "    self.eta = eta\n",
        "    self.n_iter = n_iter\n",
        "    self.random_state = random_state"
      ],
      "metadata": {
        "id": "BQp_9l3gDgqq"
      },
      "execution_count": null,
      "outputs": []
    }
  ]
}