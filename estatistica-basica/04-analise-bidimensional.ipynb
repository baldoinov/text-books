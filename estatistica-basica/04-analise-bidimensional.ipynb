{
 "cells": [
  {
   "attachments": {},
   "cell_type": "markdown",
   "metadata": {},
   "source": [
    "<center>\n",
    "    <h1>Estastística Básica - Bussab e Morettin</h1>\n",
    "    <h2>Capítulo 04 - Análise< Bidimensional/h2>\n",
    "</center>"
   ]
  },
  {
   "attachments": {},
   "cell_type": "markdown",
   "metadata": {},
   "source": [
    "## Resumo\n",
    "\n",
    "***\n",
    " \n",
    "- [Plots for Two Variables | Statistics Tutorial | MarinStatsLectures](https://www.youtube.com/watch?v=sbsY6neZ07g&list=PLqzoL9-eJTNBZDG8jaNuhap1C9q6VHyVa&index=9&t=8s&ab_channel=MarinStatsLectures-RProgramming%26Statistics)\n",
    "- [Frequency Distribution Tables and Graphs for Two Variables](https://www.youtube.com/watch?v=C__VvpvUIMw&ab_channel=StatisticsandResearchwithDr.WendiL.Benson)\n",
    "\n",
    "\n",
    "***Gráficos para Duas Variáveis (Gráficos de Associação)***\n",
    "\n",
    "- Categórica vs. Numérica: Boxplot quebrado em categorias;\n",
    "- Categórica vs. Categórica: Gráfico de barras agrupadas / gráfico de barras empilhado / *Mosaic plot*;\n",
    "- Numérica vs. Numérica: Gráfico de Dispersão / \n",
    "\n",
    "***Metódos de Análise para Duas Variáveis***\n",
    "\n",
    "- Categórica vs. Numérica: \n",
    "  - Teste-t para duas populações;\n",
    "  - Análise de variância (ANOVA) \n",
    "\n",
    "- Categórica vs. Categórica:\n",
    "  - Teste chi-quadrado;\n",
    "  - Teste de Fisher\n",
    "\n",
    "- Numérica vs. Numérica:\n",
    "  - Correlação de Pearson/Sperman\n",
    "  - Regressão Linear\n",
    "\n",
    "***Testes e Medidas de Associação***\n",
    "\n",
    "- O teste de chi-quadrado para duas variáveis testa a hipótese nula de que as duas variáveis analisadas são independentes. Portanto, um valor alto de resultado no teste indica associação entre as variáveis (rejeição da hipótese nula).\n",
    "\n",
    "- O Coeficiente de Contingência de Pearson e suas alternativas, o de Cramér e Tschuprov, fornecem uma medida de associação de duas variáveis categóricas, um análogo a essas medidas seria o Coeficiente de Correlação Linear para variáveis quantitativas.\n",
    "\n",
    "***Extras***\n"
   ]
  },
  {
   "attachments": {},
   "cell_type": "markdown",
   "metadata": {},
   "source": [
    "## Exercícios\n",
    "***"
   ]
  },
  {
   "cell_type": "code",
   "execution_count": 1,
   "metadata": {},
   "outputs": [],
   "source": [
    "import pandas as pd\n",
    "import seaborn as sns\n",
    "import matplotlib.pyplot as plt\n",
    "import numpy as np\n",
    "\n",
    "# import seabornstyle\n",
    "plt.style.use(\"ggplot\")"
   ]
  },
  {
   "attachments": {},
   "cell_type": "markdown",
   "metadata": {},
   "source": [
    "### Exercício 4.1 e 4.2"
   ]
  },
  {
   "cell_type": "code",
   "execution_count": 2,
   "metadata": {},
   "outputs": [
    {
     "data": {
      "text/html": [
       "<div>\n",
       "<style scoped>\n",
       "    .dataframe tbody tr th:only-of-type {\n",
       "        vertical-align: middle;\n",
       "    }\n",
       "\n",
       "    .dataframe tbody tr th {\n",
       "        vertical-align: top;\n",
       "    }\n",
       "\n",
       "    .dataframe thead th {\n",
       "        text-align: right;\n",
       "    }\n",
       "</style>\n",
       "<table border=\"1\" class=\"dataframe\">\n",
       "  <thead>\n",
       "    <tr style=\"text-align: right;\">\n",
       "      <th></th>\n",
       "      <th>N</th>\n",
       "      <th>estado_civil</th>\n",
       "      <th>grau_instrucao</th>\n",
       "      <th>n_filhos</th>\n",
       "      <th>salario</th>\n",
       "      <th>idade_anos</th>\n",
       "      <th>idade_meses</th>\n",
       "      <th>reg_procedencia</th>\n",
       "    </tr>\n",
       "  </thead>\n",
       "  <tbody>\n",
       "    <tr>\n",
       "      <th>0</th>\n",
       "      <td>1</td>\n",
       "      <td>solteiro</td>\n",
       "      <td>ensino fundamental</td>\n",
       "      <td>NaN</td>\n",
       "      <td>4.00</td>\n",
       "      <td>26</td>\n",
       "      <td>3</td>\n",
       "      <td>interior</td>\n",
       "    </tr>\n",
       "    <tr>\n",
       "      <th>1</th>\n",
       "      <td>2</td>\n",
       "      <td>casado</td>\n",
       "      <td>ensino fundamental</td>\n",
       "      <td>1.0</td>\n",
       "      <td>4.56</td>\n",
       "      <td>32</td>\n",
       "      <td>10</td>\n",
       "      <td>capital</td>\n",
       "    </tr>\n",
       "    <tr>\n",
       "      <th>2</th>\n",
       "      <td>3</td>\n",
       "      <td>casado</td>\n",
       "      <td>ensino fundamental</td>\n",
       "      <td>2.0</td>\n",
       "      <td>5.25</td>\n",
       "      <td>36</td>\n",
       "      <td>5</td>\n",
       "      <td>capital</td>\n",
       "    </tr>\n",
       "    <tr>\n",
       "      <th>3</th>\n",
       "      <td>4</td>\n",
       "      <td>solteiro</td>\n",
       "      <td>ensino médio</td>\n",
       "      <td>NaN</td>\n",
       "      <td>5.73</td>\n",
       "      <td>20</td>\n",
       "      <td>10</td>\n",
       "      <td>outra</td>\n",
       "    </tr>\n",
       "    <tr>\n",
       "      <th>4</th>\n",
       "      <td>5</td>\n",
       "      <td>solteiro</td>\n",
       "      <td>ensino fundamental</td>\n",
       "      <td>NaN</td>\n",
       "      <td>6.26</td>\n",
       "      <td>40</td>\n",
       "      <td>7</td>\n",
       "      <td>outra</td>\n",
       "    </tr>\n",
       "  </tbody>\n",
       "</table>\n",
       "</div>"
      ],
      "text/plain": [
       "   N estado_civil      grau_instrucao  n_filhos  salario  idade_anos  \\\n",
       "0  1     solteiro  ensino fundamental       NaN     4.00          26   \n",
       "1  2       casado  ensino fundamental       1.0     4.56          32   \n",
       "2  3       casado  ensino fundamental       2.0     5.25          36   \n",
       "3  4     solteiro        ensino médio       NaN     5.73          20   \n",
       "4  5     solteiro  ensino fundamental       NaN     6.26          40   \n",
       "\n",
       "   idade_meses reg_procedencia  \n",
       "0            3        interior  \n",
       "1           10         capital  \n",
       "2            5         capital  \n",
       "3           10           outra  \n",
       "4            7           outra  "
      ]
     },
     "execution_count": 2,
     "metadata": {},
     "output_type": "execute_result"
    }
   ],
   "source": [
    "df = pd.read_csv('dados/tab2_1.csv')\n",
    "df.head()"
   ]
  },
  {
   "cell_type": "code",
   "execution_count": 3,
   "metadata": {},
   "outputs": [
    {
     "data": {
      "text/html": [
       "<div>\n",
       "<style scoped>\n",
       "    .dataframe tbody tr th:only-of-type {\n",
       "        vertical-align: middle;\n",
       "    }\n",
       "\n",
       "    .dataframe tbody tr th {\n",
       "        vertical-align: top;\n",
       "    }\n",
       "\n",
       "    .dataframe thead th {\n",
       "        text-align: right;\n",
       "    }\n",
       "</style>\n",
       "<table border=\"1\" class=\"dataframe\">\n",
       "  <thead>\n",
       "    <tr style=\"text-align: right;\">\n",
       "      <th>grau_instrucao</th>\n",
       "      <th>ensino fundamental</th>\n",
       "      <th>ensino médio</th>\n",
       "      <th>superior</th>\n",
       "      <th>All</th>\n",
       "    </tr>\n",
       "    <tr>\n",
       "      <th>reg_procedencia</th>\n",
       "      <th></th>\n",
       "      <th></th>\n",
       "      <th></th>\n",
       "      <th></th>\n",
       "    </tr>\n",
       "  </thead>\n",
       "  <tbody>\n",
       "    <tr>\n",
       "      <th>capital</th>\n",
       "      <td>4</td>\n",
       "      <td>5</td>\n",
       "      <td>2</td>\n",
       "      <td>11</td>\n",
       "    </tr>\n",
       "    <tr>\n",
       "      <th>interior</th>\n",
       "      <td>3</td>\n",
       "      <td>7</td>\n",
       "      <td>2</td>\n",
       "      <td>12</td>\n",
       "    </tr>\n",
       "    <tr>\n",
       "      <th>outra</th>\n",
       "      <td>5</td>\n",
       "      <td>6</td>\n",
       "      <td>2</td>\n",
       "      <td>13</td>\n",
       "    </tr>\n",
       "    <tr>\n",
       "      <th>All</th>\n",
       "      <td>12</td>\n",
       "      <td>18</td>\n",
       "      <td>6</td>\n",
       "      <td>36</td>\n",
       "    </tr>\n",
       "  </tbody>\n",
       "</table>\n",
       "</div>"
      ],
      "text/plain": [
       "grau_instrucao   ensino fundamental  ensino médio  superior  All\n",
       "reg_procedencia                                                 \n",
       "capital                           4             5         2   11\n",
       "interior                          3             7         2   12\n",
       "outra                             5             6         2   13\n",
       "All                              12            18         6   36"
      ]
     },
     "metadata": {},
     "output_type": "display_data"
    },
    {
     "data": {
      "text/html": [
       "<div>\n",
       "<style scoped>\n",
       "    .dataframe tbody tr th:only-of-type {\n",
       "        vertical-align: middle;\n",
       "    }\n",
       "\n",
       "    .dataframe tbody tr th {\n",
       "        vertical-align: top;\n",
       "    }\n",
       "\n",
       "    .dataframe thead th {\n",
       "        text-align: right;\n",
       "    }\n",
       "</style>\n",
       "<table border=\"1\" class=\"dataframe\">\n",
       "  <thead>\n",
       "    <tr style=\"text-align: right;\">\n",
       "      <th>grau_instrucao</th>\n",
       "      <th>ensino fundamental</th>\n",
       "      <th>ensino médio</th>\n",
       "      <th>superior</th>\n",
       "      <th>All</th>\n",
       "    </tr>\n",
       "    <tr>\n",
       "      <th>reg_procedencia</th>\n",
       "      <th></th>\n",
       "      <th></th>\n",
       "      <th></th>\n",
       "      <th></th>\n",
       "    </tr>\n",
       "  </thead>\n",
       "  <tbody>\n",
       "    <tr>\n",
       "      <th>capital</th>\n",
       "      <td>0.111111</td>\n",
       "      <td>0.138889</td>\n",
       "      <td>0.055556</td>\n",
       "      <td>0.305556</td>\n",
       "    </tr>\n",
       "    <tr>\n",
       "      <th>interior</th>\n",
       "      <td>0.083333</td>\n",
       "      <td>0.194444</td>\n",
       "      <td>0.055556</td>\n",
       "      <td>0.333333</td>\n",
       "    </tr>\n",
       "    <tr>\n",
       "      <th>outra</th>\n",
       "      <td>0.138889</td>\n",
       "      <td>0.166667</td>\n",
       "      <td>0.055556</td>\n",
       "      <td>0.361111</td>\n",
       "    </tr>\n",
       "    <tr>\n",
       "      <th>All</th>\n",
       "      <td>0.333333</td>\n",
       "      <td>0.500000</td>\n",
       "      <td>0.166667</td>\n",
       "      <td>1.000000</td>\n",
       "    </tr>\n",
       "  </tbody>\n",
       "</table>\n",
       "</div>"
      ],
      "text/plain": [
       "grau_instrucao   ensino fundamental  ensino médio  superior       All\n",
       "reg_procedencia                                                      \n",
       "capital                    0.111111      0.138889  0.055556  0.305556\n",
       "interior                   0.083333      0.194444  0.055556  0.333333\n",
       "outra                      0.138889      0.166667  0.055556  0.361111\n",
       "All                        0.333333      0.500000  0.166667  1.000000"
      ]
     },
     "metadata": {},
     "output_type": "display_data"
    },
    {
     "data": {
      "text/html": [
       "<div>\n",
       "<style scoped>\n",
       "    .dataframe tbody tr th:only-of-type {\n",
       "        vertical-align: middle;\n",
       "    }\n",
       "\n",
       "    .dataframe tbody tr th {\n",
       "        vertical-align: top;\n",
       "    }\n",
       "\n",
       "    .dataframe thead th {\n",
       "        text-align: right;\n",
       "    }\n",
       "</style>\n",
       "<table border=\"1\" class=\"dataframe\">\n",
       "  <thead>\n",
       "    <tr style=\"text-align: right;\">\n",
       "      <th>grau_instrucao</th>\n",
       "      <th>ensino fundamental</th>\n",
       "      <th>ensino médio</th>\n",
       "      <th>superior</th>\n",
       "      <th>All</th>\n",
       "    </tr>\n",
       "    <tr>\n",
       "      <th>reg_procedencia</th>\n",
       "      <th></th>\n",
       "      <th></th>\n",
       "      <th></th>\n",
       "      <th></th>\n",
       "    </tr>\n",
       "  </thead>\n",
       "  <tbody>\n",
       "    <tr>\n",
       "      <th>capital</th>\n",
       "      <td>0.333333</td>\n",
       "      <td>0.277778</td>\n",
       "      <td>0.333333</td>\n",
       "      <td>0.305556</td>\n",
       "    </tr>\n",
       "    <tr>\n",
       "      <th>interior</th>\n",
       "      <td>0.250000</td>\n",
       "      <td>0.388889</td>\n",
       "      <td>0.333333</td>\n",
       "      <td>0.333333</td>\n",
       "    </tr>\n",
       "    <tr>\n",
       "      <th>outra</th>\n",
       "      <td>0.416667</td>\n",
       "      <td>0.333333</td>\n",
       "      <td>0.333333</td>\n",
       "      <td>0.361111</td>\n",
       "    </tr>\n",
       "  </tbody>\n",
       "</table>\n",
       "</div>"
      ],
      "text/plain": [
       "grau_instrucao   ensino fundamental  ensino médio  superior       All\n",
       "reg_procedencia                                                      \n",
       "capital                    0.333333      0.277778  0.333333  0.305556\n",
       "interior                   0.250000      0.388889  0.333333  0.333333\n",
       "outra                      0.416667      0.333333  0.333333  0.361111"
      ]
     },
     "metadata": {},
     "output_type": "display_data"
    },
    {
     "data": {
      "text/html": [
       "<div>\n",
       "<style scoped>\n",
       "    .dataframe tbody tr th:only-of-type {\n",
       "        vertical-align: middle;\n",
       "    }\n",
       "\n",
       "    .dataframe tbody tr th {\n",
       "        vertical-align: top;\n",
       "    }\n",
       "\n",
       "    .dataframe thead th {\n",
       "        text-align: right;\n",
       "    }\n",
       "</style>\n",
       "<table border=\"1\" class=\"dataframe\">\n",
       "  <thead>\n",
       "    <tr style=\"text-align: right;\">\n",
       "      <th>grau_instrucao</th>\n",
       "      <th>ensino fundamental</th>\n",
       "      <th>ensino médio</th>\n",
       "      <th>superior</th>\n",
       "    </tr>\n",
       "    <tr>\n",
       "      <th>reg_procedencia</th>\n",
       "      <th></th>\n",
       "      <th></th>\n",
       "      <th></th>\n",
       "    </tr>\n",
       "  </thead>\n",
       "  <tbody>\n",
       "    <tr>\n",
       "      <th>capital</th>\n",
       "      <td>0.363636</td>\n",
       "      <td>0.454545</td>\n",
       "      <td>0.181818</td>\n",
       "    </tr>\n",
       "    <tr>\n",
       "      <th>interior</th>\n",
       "      <td>0.250000</td>\n",
       "      <td>0.583333</td>\n",
       "      <td>0.166667</td>\n",
       "    </tr>\n",
       "    <tr>\n",
       "      <th>outra</th>\n",
       "      <td>0.384615</td>\n",
       "      <td>0.461538</td>\n",
       "      <td>0.153846</td>\n",
       "    </tr>\n",
       "    <tr>\n",
       "      <th>All</th>\n",
       "      <td>0.333333</td>\n",
       "      <td>0.500000</td>\n",
       "      <td>0.166667</td>\n",
       "    </tr>\n",
       "  </tbody>\n",
       "</table>\n",
       "</div>"
      ],
      "text/plain": [
       "grau_instrucao   ensino fundamental  ensino médio  superior\n",
       "reg_procedencia                                            \n",
       "capital                    0.363636      0.454545  0.181818\n",
       "interior                   0.250000      0.583333  0.166667\n",
       "outra                      0.384615      0.461538  0.153846\n",
       "All                        0.333333      0.500000  0.166667"
      ]
     },
     "metadata": {},
     "output_type": "display_data"
    }
   ],
   "source": [
    "freq = pd.crosstab(df[\"reg_procedencia\"], df[\"grau_instrucao\"], margins=True)\n",
    "\n",
    "freq_tgeral = (\n",
    "    pd.crosstab(\n",
    "        df[\"reg_procedencia\"], df[\"grau_instrucao\"], margins=True, normalize=\"all\"\n",
    "    ))\n",
    "\n",
    "freq_colunas = (\n",
    "    pd.crosstab(\n",
    "        df[\"reg_procedencia\"], df[\"grau_instrucao\"], margins=True, normalize=\"columns\"\n",
    "    ))\n",
    "\n",
    "freq_linhas = (\n",
    "    pd.crosstab(\n",
    "        df[\"reg_procedencia\"], df[\"grau_instrucao\"], margins=True, normalize=\"index\"\n",
    "    ))\n",
    "\n",
    "display(freq, freq_tgeral, freq_colunas, freq_linhas)"
   ]
  },
  {
   "attachments": {},
   "cell_type": "markdown",
   "metadata": {},
   "source": [
    "- 50% dos funcionários possuem ensino médio.\n",
    "- 19% dos funcionários possuem ensino médio e são do interior.\n",
    "- Dentre os funcionários do interior, 58% possuem o ensino médio.\n",
    "\n",
    "***\n",
    "\n",
    "- Sorteando um funcionário ao acaso, há 50% de chance dele possuir o ensino médio.\n",
    "- Sorteando um funcionário ao acaso, há 33% de chance dele vir do interior.\n",
    "- Há probabilidade de um sorteado ter nível superior é de 16%.\n",
    "- Sabendo que o sorteado é do interior, a probabilidade dele ter nível superior é de 16%.\n",
    "- Sabendo que o sorteado é da capital, a probabilidade dele ter nível superior é de 18%."
   ]
  },
  {
   "attachments": {},
   "cell_type": "markdown",
   "metadata": {},
   "source": [
    "## Exercício 4.3"
   ]
  },
  {
   "cell_type": "code",
   "execution_count": 4,
   "metadata": {},
   "outputs": [
    {
     "data": {
      "text/html": [
       "<div>\n",
       "<style scoped>\n",
       "    .dataframe tbody tr th:only-of-type {\n",
       "        vertical-align: middle;\n",
       "    }\n",
       "\n",
       "    .dataframe tbody tr th {\n",
       "        vertical-align: top;\n",
       "    }\n",
       "\n",
       "    .dataframe thead th {\n",
       "        text-align: right;\n",
       "    }\n",
       "</style>\n",
       "<table border=\"1\" class=\"dataframe\">\n",
       "  <thead>\n",
       "    <tr style=\"text-align: right;\">\n",
       "      <th>Nivel_Salario</th>\n",
       "      <th>Alto</th>\n",
       "      <th>Baixo</th>\n",
       "      <th>All</th>\n",
       "    </tr>\n",
       "    <tr>\n",
       "      <th>Nivel_Emprego</th>\n",
       "      <th></th>\n",
       "      <th></th>\n",
       "      <th></th>\n",
       "    </tr>\n",
       "  </thead>\n",
       "  <tbody>\n",
       "    <tr>\n",
       "      <th>Alto</th>\n",
       "      <td>0.325</td>\n",
       "      <td>0.475</td>\n",
       "      <td>0.8</td>\n",
       "    </tr>\n",
       "    <tr>\n",
       "      <th>Baixo</th>\n",
       "      <td>0.175</td>\n",
       "      <td>0.025</td>\n",
       "      <td>0.2</td>\n",
       "    </tr>\n",
       "    <tr>\n",
       "      <th>All</th>\n",
       "      <td>0.500</td>\n",
       "      <td>0.500</td>\n",
       "      <td>1.0</td>\n",
       "    </tr>\n",
       "  </tbody>\n",
       "</table>\n",
       "</div>"
      ],
      "text/plain": [
       "Nivel_Salario   Alto  Baixo  All\n",
       "Nivel_Emprego                   \n",
       "Alto           0.325  0.475  0.8\n",
       "Baixo          0.175  0.025  0.2\n",
       "All            0.500  0.500  1.0"
      ]
     },
     "metadata": {},
     "output_type": "display_data"
    },
    {
     "data": {
      "text/html": [
       "<div>\n",
       "<style scoped>\n",
       "    .dataframe tbody tr th:only-of-type {\n",
       "        vertical-align: middle;\n",
       "    }\n",
       "\n",
       "    .dataframe tbody tr th {\n",
       "        vertical-align: top;\n",
       "    }\n",
       "\n",
       "    .dataframe thead th {\n",
       "        text-align: right;\n",
       "    }\n",
       "</style>\n",
       "<table border=\"1\" class=\"dataframe\">\n",
       "  <thead>\n",
       "    <tr style=\"text-align: right;\">\n",
       "      <th>Nivel_Salario</th>\n",
       "      <th>Alto</th>\n",
       "      <th>Baixo</th>\n",
       "      <th>All</th>\n",
       "    </tr>\n",
       "    <tr>\n",
       "      <th>Nivel_Emprego</th>\n",
       "      <th></th>\n",
       "      <th></th>\n",
       "      <th></th>\n",
       "    </tr>\n",
       "  </thead>\n",
       "  <tbody>\n",
       "    <tr>\n",
       "      <th>Alto</th>\n",
       "      <td>13</td>\n",
       "      <td>19</td>\n",
       "      <td>32</td>\n",
       "    </tr>\n",
       "    <tr>\n",
       "      <th>Baixo</th>\n",
       "      <td>7</td>\n",
       "      <td>1</td>\n",
       "      <td>8</td>\n",
       "    </tr>\n",
       "    <tr>\n",
       "      <th>All</th>\n",
       "      <td>20</td>\n",
       "      <td>20</td>\n",
       "      <td>40</td>\n",
       "    </tr>\n",
       "  </tbody>\n",
       "</table>\n",
       "</div>"
      ],
      "text/plain": [
       "Nivel_Salario  Alto  Baixo  All\n",
       "Nivel_Emprego                  \n",
       "Alto             13     19   32\n",
       "Baixo             7      1    8\n",
       "All              20     20   40"
      ]
     },
     "metadata": {},
     "output_type": "display_data"
    }
   ],
   "source": [
    "df = pd.DataFrame({\"X\": [1, 3, 2, 3, 2, 2, 3, 1, 2, 3, 2, 3, 1, 2, 3, 4, 1, 2, 2, 2, 2, 3, 4, 1, 2, 3, 4, 1, 4, 3, 2 ,1, 4, 2, 4, 3, 1, 3, 2, 2],\n",
    "                   \"Y\": [6, 2, 4, 1, 4, 1, 3, 5, 2, 2, 5, 2, 6, 6, 2, 2, 5, 5, 1, 1, 4, 2, 1, 5, 4, 2, 1, 5, 4, 3, 2 ,1, 1, 6, 2, 1, 4, 2, 3, 5]})\n",
    "\n",
    "df = df.assign(Nivel_Emprego=np.select([df[\"X\"] >= df[\"X\"].median(), df[\"X\"] < df[\"X\"].median()], [\"Alto\", \"Baixo\"]),\n",
    "               Nivel_Salario=np.select([df[\"Y\"] >= df[\"Y\"].median(), df[\"Y\"] < df[\"Y\"].median()], [\"Alto\", \"Baixo\"]))\n",
    "\n",
    "display(\n",
    "    pd.crosstab(df[\"Nivel_Emprego\"], df[\"Nivel_Salario\"], normalize=True, margins=True),\n",
    "    pd.crosstab(df[\"Nivel_Emprego\"], df[\"Nivel_Salario\"], normalize=False, margins=True)\n",
    ")"
   ]
  },
  {
   "attachments": {},
   "cell_type": "markdown",
   "metadata": {},
   "source": [
    "- 2% das pessoas possuem baixa rotatividade e ganham pouco.\n",
    "- 50% das pessoas ganham pouco.\n",
    "- Dentre as pessoas com baixa rotatividade, 12,5% ganham pouco."
   ]
  },
  {
   "attachments": {},
   "cell_type": "markdown",
   "metadata": {},
   "source": [
    "## Exercício 4.4"
   ]
  },
  {
   "attachments": {},
   "cell_type": "markdown",
   "metadata": {},
   "source": [
    "- Se houvesse independência entre a região de procedência e o nível de educação do funcionário teriamos uma distribuição de 33% para cada nível de educação, a despeito da região de procedência. Olhando para a terceira tabela do exercício 4.1, vemos que esse não é o caso."
   ]
  },
  {
   "attachments": {},
   "cell_type": "markdown",
   "metadata": {},
   "source": [
    "## Exercício 4.5"
   ]
  },
  {
   "cell_type": "code",
   "execution_count": 5,
   "metadata": {},
   "outputs": [
    {
     "data": {
      "text/html": [
       "<div>\n",
       "<style scoped>\n",
       "    .dataframe tbody tr th:only-of-type {\n",
       "        vertical-align: middle;\n",
       "    }\n",
       "\n",
       "    .dataframe tbody tr th {\n",
       "        vertical-align: top;\n",
       "    }\n",
       "\n",
       "    .dataframe thead th {\n",
       "        text-align: right;\n",
       "    }\n",
       "</style>\n",
       "<table border=\"1\" class=\"dataframe\">\n",
       "  <thead>\n",
       "    <tr style=\"text-align: right;\">\n",
       "      <th>Nivel_Salario</th>\n",
       "      <th>Alto</th>\n",
       "      <th>Baixo</th>\n",
       "      <th>All</th>\n",
       "    </tr>\n",
       "    <tr>\n",
       "      <th>Rotatividade_Emprego</th>\n",
       "      <th></th>\n",
       "      <th></th>\n",
       "      <th></th>\n",
       "    </tr>\n",
       "  </thead>\n",
       "  <tbody>\n",
       "    <tr>\n",
       "      <th>Alto</th>\n",
       "      <td>65.0</td>\n",
       "      <td>95.0</td>\n",
       "      <td>80.0</td>\n",
       "    </tr>\n",
       "    <tr>\n",
       "      <th>Baixo</th>\n",
       "      <td>35.0</td>\n",
       "      <td>5.0</td>\n",
       "      <td>20.0</td>\n",
       "    </tr>\n",
       "  </tbody>\n",
       "</table>\n",
       "</div>"
      ],
      "text/plain": [
       "Nivel_Salario         Alto  Baixo   All\n",
       "Rotatividade_Emprego                   \n",
       "Alto                  65.0   95.0  80.0\n",
       "Baixo                 35.0    5.0  20.0"
      ]
     },
     "metadata": {},
     "output_type": "display_data"
    },
    {
     "data": {
      "text/html": [
       "<div>\n",
       "<style scoped>\n",
       "    .dataframe tbody tr th:only-of-type {\n",
       "        vertical-align: middle;\n",
       "    }\n",
       "\n",
       "    .dataframe tbody tr th {\n",
       "        vertical-align: top;\n",
       "    }\n",
       "\n",
       "    .dataframe thead th {\n",
       "        text-align: right;\n",
       "    }\n",
       "</style>\n",
       "<table border=\"1\" class=\"dataframe\">\n",
       "  <thead>\n",
       "    <tr style=\"text-align: right;\">\n",
       "      <th>Nivel_Salario</th>\n",
       "      <th>Alto</th>\n",
       "      <th>Baixo</th>\n",
       "      <th>All</th>\n",
       "    </tr>\n",
       "    <tr>\n",
       "      <th>Rotatividade_Emprego</th>\n",
       "      <th></th>\n",
       "      <th></th>\n",
       "      <th></th>\n",
       "    </tr>\n",
       "  </thead>\n",
       "  <tbody>\n",
       "    <tr>\n",
       "      <th>Alto</th>\n",
       "      <td>13</td>\n",
       "      <td>19</td>\n",
       "      <td>32</td>\n",
       "    </tr>\n",
       "    <tr>\n",
       "      <th>Baixo</th>\n",
       "      <td>7</td>\n",
       "      <td>1</td>\n",
       "      <td>8</td>\n",
       "    </tr>\n",
       "    <tr>\n",
       "      <th>All</th>\n",
       "      <td>20</td>\n",
       "      <td>20</td>\n",
       "      <td>40</td>\n",
       "    </tr>\n",
       "  </tbody>\n",
       "</table>\n",
       "</div>"
      ],
      "text/plain": [
       "Nivel_Salario         Alto  Baixo  All\n",
       "Rotatividade_Emprego                  \n",
       "Alto                    13     19   32\n",
       "Baixo                    7      1    8\n",
       "All                     20     20   40"
      ]
     },
     "metadata": {},
     "output_type": "display_data"
    }
   ],
   "source": [
    "df = pd.DataFrame({\"X\": [1, 3, 2, 3, 2, 2, 3, 1, 2, 3, 2, 3, 1, 2, 3, 4, 1, 2, 2, 2, 2, 3, 4, 1, 2, 3, 4, 1, 4, 3, 2 ,1, 4, 2, 4, 3, 1, 3, 2, 2],\n",
    "                   \"Y\": [6, 2, 4, 1, 4, 1, 3, 5, 2, 2, 5, 2, 6, 6, 2, 2, 5, 5, 1, 1, 4, 2, 1, 5, 4, 2, 1, 5, 4, 3, 2 ,1, 1, 6, 2, 1, 4, 2, 3, 5]})\n",
    "\n",
    "df = df.assign(Rotatividade_Emprego=np.select([df[\"X\"] >= df[\"X\"].median(), df[\"X\"] < df[\"X\"].median()], [\"Alto\", \"Baixo\"]),\n",
    "               Nivel_Salario=np.select([df[\"Y\"] >= df[\"Y\"].median(), df[\"Y\"] < df[\"Y\"].median()], [\"Alto\", \"Baixo\"]))\n",
    "\n",
    "display(\n",
    "    pd.crosstab(df[\"Rotatividade_Emprego\"], df[\"Nivel_Salario\"], normalize=\"columns\", margins=True) * 100,\n",
    "    pd.crosstab(df[\"Rotatividade_Emprego\"], df[\"Nivel_Salario\"], normalize=False, margins=True)\n",
    ")"
   ]
  },
  {
   "attachments": {},
   "cell_type": "markdown",
   "metadata": {},
   "source": [
    "- Há associação entre as variáveis rotatividade e salário. Na primeira tabela vemos que 95% das pessoas com baixo salário possuem alta rotatividade nos empregos."
   ]
  },
  {
   "attachments": {},
   "cell_type": "markdown",
   "metadata": {},
   "source": [
    "## Exercício 4.7\n",
    "\n",
    "- [scipy.stats.contingency.association()](https://docs.scipy.org/doc/scipy/reference/generated/scipy.stats.contingency.association.html#scipy.stats.contingency.association)\n",
    "- [Python – Pearson’s Chi-Square Test](https://www.geeksforgeeks.org/python-pearsons-chi-square-test/)"
   ]
  },
  {
   "cell_type": "code",
   "execution_count": 6,
   "metadata": {},
   "outputs": [],
   "source": [
    "from scipy.stats import chi2_contingency\n",
    "from scipy.stats.contingency import association"
   ]
  },
  {
   "cell_type": "code",
   "execution_count": 17,
   "metadata": {},
   "outputs": [],
   "source": [
    "def associacao_vars_categoricas(freqs: list[list[int]]) -> None:\n",
    "\n",
    "    stat_chi_sqr, pvalue, dof, expec_freq = chi2_contingency(freqs, correction=False)\n",
    "    stat_c = association(freqs, method=\"pearson\")\n",
    "    stat_t = association(freqs, method=\"tschuprow\")\n",
    "    \n",
    "    print(f\"Os valores pedidos são:\\n\\n\"\n",
    "        f\"Chi-quadrado de Pearson: {stat_chi_sqr:.4f}\\n\"\n",
    "        f\"\\tA hipótese nula é de que os valores observados são próximos do valores esperados da distribuição. Isto é, \\n\"\n",
    "        f\"\\tde que as duas variáveis são dependentes.\\n\"\n",
    "        f\"\\tO p-valor da estatística é: {pvalue:.4f}. \\n\"\n",
    "        f\"Coeficiente de Contingência de Pearson: {stat_c:.4f}\\n\"\n",
    "        f\"Coeficiente de Contingência de Tschuprow: {stat_t:.4f}\\n\")"
   ]
  },
  {
   "cell_type": "code",
   "execution_count": 16,
   "metadata": {},
   "outputs": [
    {
     "data": {
      "text/plain": [
       "array([[4, 5, 2],\n",
       "       [3, 7, 2],\n",
       "       [5, 6, 2]], dtype=int64)"
      ]
     },
     "execution_count": 16,
     "metadata": {},
     "output_type": "execute_result"
    }
   ],
   "source": [
    "df = pd.read_csv('dados/tab2_1.csv')\n",
    "\n",
    "frequencies = pd.crosstab(df[\"reg_procedencia\"], df[\"grau_instrucao\"])\n",
    "frequencies = frequencies.to_numpy()\n",
    "\n",
    "frequencies"
   ]
  },
  {
   "cell_type": "code",
   "execution_count": 9,
   "metadata": {},
   "outputs": [
    {
     "name": "stdout",
     "output_type": "stream",
     "text": [
      "Os valores pedidos são:\n",
      "\n",
      "Chi-quadrado de Pearson: 0.6614\n",
      "\tA hipótese nula é de que os valores observados são próximos do valores esperados da distribuição. Isto é, \n",
      "\tde que as duas variáveis são dependentes.\n",
      "\tO p-valor da estatística é: 0.9560. \n",
      "Coeficiente de Contingência de Pearson: 0.1343\n",
      "\n"
     ]
    }
   ],
   "source": [
    "associacao_vars_categoricas(frequencies)"
   ]
  },
  {
   "attachments": {},
   "cell_type": "markdown",
   "metadata": {},
   "source": [
    "Os resultados obtidos batem com os vistos no exercício 4.4 e temos um forte indício que as variáveis não estão associadas."
   ]
  },
  {
   "attachments": {},
   "cell_type": "markdown",
   "metadata": {},
   "source": [
    "## Exercício 4.8"
   ]
  },
  {
   "cell_type": "code",
   "execution_count": 12,
   "metadata": {},
   "outputs": [
    {
     "data": {
      "text/plain": [
       "array([[13, 19],\n",
       "       [ 7,  1]], dtype=int64)"
      ]
     },
     "execution_count": 12,
     "metadata": {},
     "output_type": "execute_result"
    }
   ],
   "source": [
    "df = pd.DataFrame({\"X\": [1, 3, 2, 3, 2, 2, 3, 1, 2, 3, 2, 3, 1, 2, 3, 4, 1, 2, 2, 2, 2, 3, 4, 1, 2, 3, 4, 1, 4, 3, 2 ,1, 4, 2, 4, 3, 1, 3, 2, 2],\n",
    "                   \"Y\": [6, 2, 4, 1, 4, 1, 3, 5, 2, 2, 5, 2, 6, 6, 2, 2, 5, 5, 1, 1, 4, 2, 1, 5, 4, 2, 1, 5, 4, 3, 2 ,1, 1, 6, 2, 1, 4, 2, 3, 5]})\n",
    "\n",
    "df = df.assign(Nivel_Emprego=np.select([df[\"X\"] >= df[\"X\"].median(), df[\"X\"] < df[\"X\"].median()], [\"Alto\", \"Baixo\"]),\n",
    "               Nivel_Salario=np.select([df[\"Y\"] >= df[\"Y\"].median(), df[\"Y\"] < df[\"Y\"].median()], [\"Alto\", \"Baixo\"]))\n",
    "\n",
    "frequencies_p3 = pd.crosstab(df[\"Nivel_Emprego\"], df[\"Nivel_Salario\"], normalize=False).to_numpy()\n",
    "\n",
    "frequencies_p3\n"
   ]
  },
  {
   "cell_type": "code",
   "execution_count": 20,
   "metadata": {},
   "outputs": [
    {
     "name": "stdout",
     "output_type": "stream",
     "text": [
      "Os valores pedidos são:\n",
      "\n",
      "Chi-quadrado de Pearson: 5.6250\n",
      "\tA hipótese nula é de que os valores observados são próximos do valores esperados da distribuição. Isto é, \n",
      "\tde que as duas variáveis são dependentes.\n",
      "\tO p-valor da estatística é: 0.0177. \n",
      "Coeficiente de Contingência de Pearson: 0.3511\n",
      "Coeficiente de Contingência de Tschuprow: 0.3750\n",
      "\n"
     ]
    }
   ],
   "source": [
    "associacao_vars_categoricas(frequencies_p3)"
   ]
  },
  {
   "attachments": {},
   "cell_type": "markdown",
   "metadata": {},
   "source": [
    "Os resultados acima indicam que as variáveis analisadas (número de empregos nos últimos dois anos e salário mais recente) podem estar associadas."
   ]
  },
  {
   "cell_type": "code",
   "execution_count": 19,
   "metadata": {},
   "outputs": [
    {
     "name": "stdout",
     "output_type": "stream",
     "text": [
      "Os valores pedidos são:\n",
      "\n",
      "Chi-quadrado de Pearson: 11.4286\n",
      "\tA hipótese nula é de que os valores observados são próximos do valores esperados da distribuição. Isto é, \n",
      "\tde que as duas variáveis são dependentes.\n",
      "\tO p-valor da estatística é: 0.0007. \n",
      "Coeficiente de Contingência de Pearson: 0.0754\n",
      "Coeficiente de Contingência de Tschuprow: 0.0756\n",
      "\n"
     ]
    }
   ],
   "source": [
    "frequencies_p6 = np.array([[100, 150], [900, 850]])\n",
    "\n",
    "associacao_vars_categoricas(frequencies_p6)"
   ]
  },
  {
   "attachments": {},
   "cell_type": "markdown",
   "metadata": {},
   "source": [
    "O resultado do teste de chi-quadrado de Pearson indica que as variáveis estão associadas, mas de uma maneira sútil."
   ]
  },
  {
   "attachments": {},
   "cell_type": "markdown",
   "metadata": {},
   "source": [
    "## Exercício 4.9"
   ]
  },
  {
   "cell_type": "code",
   "execution_count": 21,
   "metadata": {},
   "outputs": [
    {
     "name": "stdout",
     "output_type": "stream",
     "text": [
      "Os valores pedidos são:\n",
      "\n",
      "Chi-quadrado de Pearson: 0.6140\n",
      "\tA hipótese nula é de que os valores observados são próximos do valores esperados da distribuição. Isto é, \n",
      "\tde que as duas variáveis são dependentes.\n",
      "\tO p-valor da estatística é: 0.9615. \n",
      "Coeficiente de Contingência de Pearson: 0.0325\n",
      "Coeficiente de Contingência de Tschuprow: 0.0230\n",
      "\n"
     ]
    }
   ],
   "source": [
    "M = np.array([[64, 120, 16], [104, 175, 21], [27, 48, 5]])\n",
    "\n",
    "associacao_vars_categoricas(M)"
   ]
  },
  {
   "attachments": {},
   "cell_type": "markdown",
   "metadata": {},
   "source": [
    "Analisando os resultados dos testes acima vemos que não há base quantitativa para a afirmação da empresa de detetização."
   ]
  },
  {
   "cell_type": "code",
   "execution_count": null,
   "metadata": {},
   "outputs": [],
   "source": []
  }
 ],
 "metadata": {
  "kernelspec": {
   "display_name": "Python 3 (ipykernel)",
   "language": "python",
   "name": "python3"
  },
  "language_info": {
   "codemirror_mode": {
    "name": "ipython",
    "version": 3
   },
   "file_extension": ".py",
   "mimetype": "text/x-python",
   "name": "python",
   "nbconvert_exporter": "python",
   "pygments_lexer": "ipython3",
   "version": "3.10.7"
  },
  "vscode": {
   "interpreter": {
    "hash": "5fe3e6f0cdaab8afdc61c52912fda83f7c0a71baaea1897dd7498e2df01e69ec"
   }
  }
 },
 "nbformat": 4,
 "nbformat_minor": 4
}
