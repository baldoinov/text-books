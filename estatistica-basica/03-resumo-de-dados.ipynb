{
 "cells": [
  {
   "attachments": {},
   "cell_type": "markdown",
   "metadata": {},
   "source": [
    "<center>\n",
    "    <h1>Estastística Básica - Bussab e Morettin</h1>\n",
    "    <h2>Capítulo 03 - Medidas-Resumo</h2>\n",
    "</center>"
   ]
  },
  {
   "attachments": {},
   "cell_type": "markdown",
   "metadata": {},
   "source": [
    "## Resumo\n",
    "\n",
    "***\n",
    " \n",
    "- [Somatório](https://www.youtube.com/watch?v=DP3JdGaEeqw&ab_channel=Estat%C3%ADsticaparaConcurso)\n",
    "- [Boxplots in Statistics | Statistics Tutorial | MarinStatsLectures](https://www.youtube.com/watch?v=9AKLd5FHzfI&list=PLqzoL9-eJTNBZDG8jaNuhap1C9q6VHyVa&index=8&ab_channel=MarinStatsLectures-RProgramming%26Statistics)\n",
    "- [Describing Distributions: Center, Spread & Shape | Statistics Tutorial | MarinStatsLectures](https://www.youtube.com/watch?v=2Y2l9QJCe6M&list=PLqzoL9-eJTNBZDG8jaNuhap1C9q6VHyVa&index=11&ab_channel=MarinStatsLectures-RProgramming%26Statistics)\n",
    "- [Mean, Median and Mode in Statistics | Statistics Tutorial | MarinStatsLectures](https://www.youtube.com/watch?v=2pyq0TJmpzs&list=PLqzoL9-eJTNBZDG8jaNuhap1C9q6VHyVa&index=12&ab_channel=MarinStatsLectures-RProgramming%26Statistics)\n",
    "- [Percentiles, Quantiles and Quartiles in Statistics | Statistics Tutorial | MarinStatsLectures](https://www.youtube.com/watch?v=Ky7QeVgv-BA&list=PLqzoL9-eJTNBZDG8jaNuhap1C9q6VHyVa&index=13&ab_channel=MarinStatsLectures-RProgramming%26Statistics)\n",
    "- [Measures of Spread & Variability: Range, Variance, SD, etc| Statistics Tutorial | MarinStatsLectures](https://www.youtube.com/watch?v=C7AoEjLyW78&list=PLqzoL9-eJTNBZDG8jaNuhap1C9q6VHyVa&index=14&ab_channel=MarinStatsLectures-RProgramming%26Statistics)\n",
    "- [Standard Deviation & Degrees of Freedom Explained | Statistics Tutorial | MarinStatsLectures](https://www.youtube.com/watch?v=nlm9gfso4mw&list=PLqzoL9-eJTNBZDG8jaNuhap1C9q6VHyVa&index=15&ab_channel=MarinStatsLectures-RProgramming%26Statistics)\n",
    "\n",
    "***Medidas de posição e dispersão***\n",
    "\n",
    "- Mediana:\n",
    "\n",
    "$$\n",
    "md(X)=   \\left\\{\n",
    "\\begin{array}{ll}\n",
    "      x_{_{(\\frac{n + 1}{2})}} \\qquad \\text{se n ímpar} \\\\\n",
    "      \\frac{x_{_{(\\frac{n}{2})}} + x_{_{(\\frac{n + 1}{2})}}}{2} \\qquad \\text{se n par} \\\\\n",
    "\\end{array} \n",
    "\\right. \n",
    "$$\n",
    "\n",
    "> *\"A mediana é uma medida resistente, ao passo que a média não o é, em particular para distribuições muito assimétricas ou contendo valores atípicos.\"*\n",
    "  \n",
    "> *\"Uma outra medida resistente é a média aparada. Essa medida envolve calcular a média das observações centrais, desprezando-se uma porcentagem das iniciais e finais.\"*\n",
    "\n",
    "- Desvio médio:\n",
    "$$dm(X) = \\frac{\\sum_{i=1}^{n} |x_i - \\bar{x}|}{n}$$\n",
    "\n",
    "- Variância: \n",
    "\n",
    "$$var(X) = \\frac{\\sum_{i=1}^{n} (x_i - \\bar{x})^2}{n} \\qquad \\text{ou} \\qquad \\frac{\\sum_{i=1}^{n} x_i^2}{n} - \\bar{x}^2 \\qquad \\text{ou} \\qquad [\\sum_{i=1}^{n} f_i x_i^2] - \\bar{x}^2$$\n",
    "\n",
    "- Desvio padrão:\n",
    "\n",
    "$$dp(X) = \\sqrt{var(X)}$$\n",
    "\n",
    "> *\"Assim como a média, a variância (ou o desvio padrão) é uma boa medida se a distribuição dos dados for aproximadamente normal. O desvio médio é mais resistente que o desvio padrão...\"*\n",
    "\n",
    "***Quantis e Simetria***\n",
    "\n",
    "> *\"Os quartis são medidas de localização resistentes de uma distribuição.\"*\n",
    "\n",
    "> *\"Dizemos que uma medida de localização ou dispersão é **resistente** quando for pouco afetada por mudanças de uma pequena porção dos dados\"* \n",
    "\n",
    "- Os principais valores para se ter uma boa ideia do formato de uma distribuição de dados são:\n",
    "  - $x_{_{(1)}}$: O menor valor do conjunto de dados;\n",
    "  - $q_{_1}$: O valor do primeiro quartil;\n",
    "  - $q_{_2}$: O valor da mediana;\n",
    "  - $q_{_3}$: O valor do terceiro quartil; e\n",
    "  - $x_{_{(n)}}$: O maior valor do conjunto de dados\n",
    "- Para uma distribuição aproximadamente simétrica, deveriamos ter:\n",
    "  - $q_{_2} - x_{_{(1)}} \\approx x_{_{(1)}} - q_{_2}$: A *dispersão inferior* deve ser aproximada da *dispersão superior*\n",
    "  - $q_{_2} - q_{_1} \\approx q_{_3} - q_{_2}$\n",
    "  - $q_{_1} - x_{_{(1)}} \\approx x_{_{(n)}} - q_{_3}$\n",
    "  - $q_{_2} - q_{_1} < q_{_1} - x_{_{(1)}}$  e  $q_{_3} - q_{_2} < x_{_{(n)}} - q_{_3}$\n",
    "\n",
    "***Transformações***\n",
    "\n",
    "> *\"Vários procedimentos estatísticos são baseados na suposição de que os dados provêm de uma distribuição normal ou então mais ou menos simétrica. (...) Se quisermos utilizar tais procedimentos, o que se propõe é efetuar uma transformação das observações, de modo a se obter uma distribuição mais simétrica e próxima da normal. Uma família de transformações frequentemente utilizada é:\"*\n",
    "\n",
    "$$\n",
    "x^{p}=   \\left\\{\n",
    "\\begin{array}{ll}\n",
    "      x^{p} \\qquad \\text{se } p > 0 \\\\\n",
    "      ln(x) \\qquad \\text{se } p = 0 \\\\\n",
    "      -x^{p} \\qquad \\text{se } p < 0 \\\\\n",
    "\\end{array} \n",
    "\\right. \n",
    "$$\n",
    "\n",
    "- Aqui $p$ é uma parâmetro que é substituido até que a distribuição fique aproximadamente simétrica.\n",
    "\n",
    "***Extras***\n",
    "\n",
    "-"
   ]
  },
  {
   "attachments": {},
   "cell_type": "markdown",
   "metadata": {},
   "source": [
    "## Exercícios\n",
    "***"
   ]
  },
  {
   "cell_type": "code",
   "execution_count": 1,
   "metadata": {},
   "outputs": [],
   "source": [
    "import pandas as pd\n",
    "import seaborn as sns\n",
    "import matplotlib.pyplot as plt\n",
    "import numpy as np\n",
    "\n",
    "# import seabornstyle\n",
    "plt.style.use(\"ggplot\")"
   ]
  },
  {
   "attachments": {},
   "cell_type": "markdown",
   "metadata": {},
   "source": [
    "### Exercício 3.3"
   ]
  },
  {
   "cell_type": "code",
   "execution_count": 27,
   "metadata": {},
   "outputs": [
    {
     "data": {
      "image/png": "[encoded data removed]",
      "text/plain": [
       "<Figure size 500x500 with 1 Axes>"
      ]
     },
     "metadata": {},
     "output_type": "display_data"
    }
   ],
   "source": [
    "s = [\n",
    "    2, 2, 3, 10, 13, 14, 15, 15, 16, 16,\n",
    "    18, 18, 20, 21, 22, 22, 23, 24, 25, 25,\n",
    "    26, 27, 29, 29, 30, 32, 36, 42, 44, 45,\n",
    "    45, 46, 48, 52, 58, 59, 61, 61, 61, 65,\n",
    "    66, 66, 68, 75, 78, 80, 89, 90, 92, 97,\n",
    "]\n",
    "\n",
    "sns.displot(s, bins=5)\n",
    "\n",
    "plt.axvline(x=np.mean(s), color=\"blue\")\n",
    "plt.axvline(x=np.median(s), color=\"red\")\n",
    "\n",
    "plt.show()"
   ]
  },
  {
   "cell_type": "code",
   "execution_count": 13,
   "metadata": {},
   "outputs": [
    {
     "name": "stdout",
     "output_type": "stream",
     "text": [
      "As medidas de posição central e dispersão são: \n",
      "\tMédia: 40.42\n",
      "\tMediana: 31.0\n",
      "\tDesvio-padrão: 25.814794207973073\n",
      "\n"
     ]
    }
   ],
   "source": [
    "print(f\"As medidas de posição central e dispersão são: \\n\"\n",
    "      f\"\\tMédia: {np.mean(s)}\\n\"\n",
    "      f\"\\tMediana: {np.median(s)}\\n\"\n",
    "      f\"\\tDesvio-padrão: {np.std(s)}\\n\")"
   ]
  },
  {
   "attachments": {},
   "cell_type": "markdown",
   "metadata": {},
   "source": [
    "## Exercício 3.x"
   ]
  },
  {
   "cell_type": "code",
   "execution_count": 21,
   "metadata": {},
   "outputs": [
    {
     "data": {
      "text/html": [
       "<div>\n",
       "<style scoped>\n",
       "    .dataframe tbody tr th:only-of-type {\n",
       "        vertical-align: middle;\n",
       "    }\n",
       "\n",
       "    .dataframe tbody tr th {\n",
       "        vertical-align: top;\n",
       "    }\n",
       "\n",
       "    .dataframe thead th {\n",
       "        text-align: right;\n",
       "    }\n",
       "</style>\n",
       "<table border=\"1\" class=\"dataframe\">\n",
       "  <thead>\n",
       "    <tr style=\"text-align: right;\">\n",
       "      <th></th>\n",
       "      <th>n</th>\n",
       "      <th>municipio</th>\n",
       "      <th>populacao</th>\n",
       "    </tr>\n",
       "  </thead>\n",
       "  <tbody>\n",
       "    <tr>\n",
       "      <th>0</th>\n",
       "      <td>1</td>\n",
       "      <td>São Paulo(SP)</td>\n",
       "      <td>988.8</td>\n",
       "    </tr>\n",
       "    <tr>\n",
       "      <th>1</th>\n",
       "      <td>2</td>\n",
       "      <td>Rio de Janeiro(RJ)</td>\n",
       "      <td>556.9</td>\n",
       "    </tr>\n",
       "    <tr>\n",
       "      <th>2</th>\n",
       "      <td>3</td>\n",
       "      <td>Salvador(BA)</td>\n",
       "      <td>224.6</td>\n",
       "    </tr>\n",
       "    <tr>\n",
       "      <th>3</th>\n",
       "      <td>4</td>\n",
       "      <td>Belo Horizonte(MG)</td>\n",
       "      <td>210.9</td>\n",
       "    </tr>\n",
       "    <tr>\n",
       "      <th>4</th>\n",
       "      <td>5</td>\n",
       "      <td>Fortaleza(CE)</td>\n",
       "      <td>201.5</td>\n",
       "    </tr>\n",
       "  </tbody>\n",
       "</table>\n",
       "</div>"
      ],
      "text/plain": [
       "   n           municipio  populacao\n",
       "0  1       São Paulo(SP)      988.8\n",
       "1  2  Rio de Janeiro(RJ)      556.9\n",
       "2  3        Salvador(BA)      224.6\n",
       "3  4  Belo Horizonte(MG)      210.9\n",
       "4  5       Fortaleza(CE)      201.5"
      ]
     },
     "execution_count": 21,
     "metadata": {},
     "output_type": "execute_result"
    }
   ],
   "source": [
    "df = pd.read_csv('dados/cd_municipios.csv', usecols=[1, 2, 3])\n",
    "df.head()"
   ]
  },
  {
   "cell_type": "code",
   "execution_count": 23,
   "metadata": {},
   "outputs": [
    {
     "data": {
      "text/plain": [
       "186.59462734500957"
      ]
     },
     "execution_count": 23,
     "metadata": {},
     "output_type": "execute_result"
    }
   ],
   "source": [
    "df[\"populacao\"].std()"
   ]
  },
  {
   "cell_type": "code",
   "execution_count": 26,
   "metadata": {},
   "outputs": [
    {
     "data": {
      "text/plain": [
       "51.952292421323314"
      ]
     },
     "execution_count": 26,
     "metadata": {},
     "output_type": "execute_result"
    }
   ],
   "source": [
    "df[~df[\"municipio\"].isin([\"São Paulo(SP)\", \"Rio de Janeiro(RJ)\"])][\"populacao\"].std()"
   ]
  },
  {
   "attachments": {},
   "cell_type": "markdown",
   "metadata": {},
   "source": [
    "## Exercício 3.10"
   ]
  },
  {
   "cell_type": "code",
   "execution_count": 37,
   "metadata": {},
   "outputs": [
    {
     "name": "stdout",
     "output_type": "stream",
     "text": [
      "Os quantis empíricos são:\n",
      "\t q(0,10): 53.72\n",
      "\t q(0,25): 64.475\n",
      "\t q(0,50): 84.30000000000001\n",
      "\t q(0,75): 134.3\n",
      "\t q(0,80): 158.8200000000001\n",
      "\t q(0,95): 407.36499999999904\n",
      "\n"
     ]
    }
   ],
   "source": [
    "print(f\"Os quantis empíricos são:\\n\"\n",
    "      f\"\\t q(0,10): {np.quantile(df['populacao'], 0.10)}\\n\"\n",
    "      f\"\\t q(0,25): {np.quantile(df['populacao'], 0.25)}\\n\"\n",
    "      f\"\\t q(0,50): {np.quantile(df['populacao'], 0.50)}\\n\"\n",
    "      f\"\\t q(0,75): {np.quantile(df['populacao'], 0.75)}\\n\"\n",
    "      f\"\\t q(0,80): {np.quantile(df['populacao'], 0.80)}\\n\"\n",
    "      f\"\\t q(0,95): {np.quantile(df['populacao'], 0.95)}\\n\")"
   ]
  },
  {
   "attachments": {},
   "cell_type": "markdown",
   "metadata": {},
   "source": [
    "## Exercício 3.11"
   ]
  },
  {
   "cell_type": "code",
   "execution_count": 45,
   "metadata": {},
   "outputs": [
    {
     "data": {
      "text/html": [
       "<div>\n",
       "<style scoped>\n",
       "    .dataframe tbody tr th:only-of-type {\n",
       "        vertical-align: middle;\n",
       "    }\n",
       "\n",
       "    .dataframe tbody tr th {\n",
       "        vertical-align: top;\n",
       "    }\n",
       "\n",
       "    .dataframe thead th {\n",
       "        text-align: right;\n",
       "    }\n",
       "</style>\n",
       "<table border=\"1\" class=\"dataframe\">\n",
       "  <thead>\n",
       "    <tr style=\"text-align: right;\">\n",
       "      <th></th>\n",
       "      <th>N</th>\n",
       "      <th>estado_civil</th>\n",
       "      <th>grau_instrucao</th>\n",
       "      <th>n_filhos</th>\n",
       "      <th>salario</th>\n",
       "      <th>idade_anos</th>\n",
       "      <th>idade_meses</th>\n",
       "      <th>reg_procedencia</th>\n",
       "    </tr>\n",
       "  </thead>\n",
       "  <tbody>\n",
       "    <tr>\n",
       "      <th>0</th>\n",
       "      <td>1</td>\n",
       "      <td>solteiro</td>\n",
       "      <td>ensino fundamental</td>\n",
       "      <td>NaN</td>\n",
       "      <td>4.00</td>\n",
       "      <td>26</td>\n",
       "      <td>3</td>\n",
       "      <td>interior</td>\n",
       "    </tr>\n",
       "    <tr>\n",
       "      <th>1</th>\n",
       "      <td>2</td>\n",
       "      <td>casado</td>\n",
       "      <td>ensino fundamental</td>\n",
       "      <td>1.0</td>\n",
       "      <td>4.56</td>\n",
       "      <td>32</td>\n",
       "      <td>10</td>\n",
       "      <td>capital</td>\n",
       "    </tr>\n",
       "    <tr>\n",
       "      <th>2</th>\n",
       "      <td>3</td>\n",
       "      <td>casado</td>\n",
       "      <td>ensino fundamental</td>\n",
       "      <td>2.0</td>\n",
       "      <td>5.25</td>\n",
       "      <td>36</td>\n",
       "      <td>5</td>\n",
       "      <td>capital</td>\n",
       "    </tr>\n",
       "    <tr>\n",
       "      <th>3</th>\n",
       "      <td>4</td>\n",
       "      <td>solteiro</td>\n",
       "      <td>ensino médio</td>\n",
       "      <td>NaN</td>\n",
       "      <td>5.73</td>\n",
       "      <td>20</td>\n",
       "      <td>10</td>\n",
       "      <td>outra</td>\n",
       "    </tr>\n",
       "    <tr>\n",
       "      <th>4</th>\n",
       "      <td>5</td>\n",
       "      <td>solteiro</td>\n",
       "      <td>ensino fundamental</td>\n",
       "      <td>NaN</td>\n",
       "      <td>6.26</td>\n",
       "      <td>40</td>\n",
       "      <td>7</td>\n",
       "      <td>outra</td>\n",
       "    </tr>\n",
       "  </tbody>\n",
       "</table>\n",
       "</div>"
      ],
      "text/plain": [
       "   N estado_civil      grau_instrucao  n_filhos  salario  idade_anos  \\\n",
       "0  1     solteiro  ensino fundamental       NaN     4.00          26   \n",
       "1  2       casado  ensino fundamental       1.0     4.56          32   \n",
       "2  3       casado  ensino fundamental       2.0     5.25          36   \n",
       "3  4     solteiro        ensino médio       NaN     5.73          20   \n",
       "4  5     solteiro  ensino fundamental       NaN     6.26          40   \n",
       "\n",
       "   idade_meses reg_procedencia  \n",
       "0            3        interior  \n",
       "1           10         capital  \n",
       "2            5         capital  \n",
       "3           10           outra  \n",
       "4            7           outra  "
      ]
     },
     "execution_count": 45,
     "metadata": {},
     "output_type": "execute_result"
    }
   ],
   "source": [
    "df = pd.read_csv(\"dados/tab2_1.csv\")\n",
    "df.head()"
   ]
  },
  {
   "cell_type": "code",
   "execution_count": 50,
   "metadata": {},
   "outputs": [
    {
     "data": {
      "image/png": "[encoded data removed]",
      "text/plain": [
       "<Figure size 640x480 with 1 Axes>"
      ]
     },
     "metadata": {},
     "output_type": "display_data"
    }
   ],
   "source": [
    "sns.boxplot(data=df, y=\"salario\", showmeans=True)\n",
    "plt.show()"
   ]
  },
  {
   "attachments": {},
   "cell_type": "markdown",
   "metadata": {},
   "source": [
    "A distribuição não é simétrica e possui uma assimetria à esquerda."
   ]
  },
  {
   "attachments": {},
   "cell_type": "markdown",
   "metadata": {},
   "source": [
    "## Exercício 3.12"
   ]
  },
  {
   "cell_type": "code",
   "execution_count": 51,
   "metadata": {},
   "outputs": [
    {
     "data": {
      "image/png": "[encoded data removed]",
      "text/plain": [
       "<Figure size 640x480 with 1 Axes>"
      ]
     },
     "metadata": {},
     "output_type": "display_data"
    }
   ],
   "source": [
    "s = [\n",
    "    2, 2, 3, 10, 13, 14, 15, 15, 16, 16,\n",
    "    18, 18, 20, 21, 22, 22, 23, 24, 25, 25,\n",
    "    26, 27, 29, 29, 30, 32, 36, 42, 44, 45,\n",
    "    45, 46, 48, 52, 58, 59, 61, 61, 61, 65,\n",
    "    66, 66, 68, 75, 78, 80, 89, 90, 92, 97,\n",
    "]\n",
    "\n",
    "sns.boxplot(y=s, showmeans=True)\n",
    "plt.show()"
   ]
  },
  {
   "attachments": {},
   "cell_type": "markdown",
   "metadata": {},
   "source": [
    "## Exercício 3.13"
   ]
  },
  {
   "cell_type": "code",
   "execution_count": 3,
   "metadata": {},
   "outputs": [
    {
     "data": {
      "text/html": [
       "<div>\n",
       "<style scoped>\n",
       "    .dataframe tbody tr th:only-of-type {\n",
       "        vertical-align: middle;\n",
       "    }\n",
       "\n",
       "    .dataframe tbody tr th {\n",
       "        vertical-align: top;\n",
       "    }\n",
       "\n",
       "    .dataframe thead th {\n",
       "        text-align: right;\n",
       "    }\n",
       "</style>\n",
       "<table border=\"1\" class=\"dataframe\">\n",
       "  <thead>\n",
       "    <tr style=\"text-align: right;\">\n",
       "      <th></th>\n",
       "      <th>n</th>\n",
       "      <th>municipio</th>\n",
       "      <th>populacao</th>\n",
       "    </tr>\n",
       "  </thead>\n",
       "  <tbody>\n",
       "    <tr>\n",
       "      <th>0</th>\n",
       "      <td>1</td>\n",
       "      <td>São Paulo(SP)</td>\n",
       "      <td>988.8</td>\n",
       "    </tr>\n",
       "    <tr>\n",
       "      <th>1</th>\n",
       "      <td>2</td>\n",
       "      <td>Rio de Janeiro(RJ)</td>\n",
       "      <td>556.9</td>\n",
       "    </tr>\n",
       "    <tr>\n",
       "      <th>2</th>\n",
       "      <td>3</td>\n",
       "      <td>Salvador(BA)</td>\n",
       "      <td>224.6</td>\n",
       "    </tr>\n",
       "    <tr>\n",
       "      <th>3</th>\n",
       "      <td>4</td>\n",
       "      <td>Belo Horizonte(MG)</td>\n",
       "      <td>210.9</td>\n",
       "    </tr>\n",
       "    <tr>\n",
       "      <th>4</th>\n",
       "      <td>5</td>\n",
       "      <td>Fortaleza(CE)</td>\n",
       "      <td>201.5</td>\n",
       "    </tr>\n",
       "  </tbody>\n",
       "</table>\n",
       "</div>"
      ],
      "text/plain": [
       "   n           municipio  populacao\n",
       "0  1       São Paulo(SP)      988.8\n",
       "1  2  Rio de Janeiro(RJ)      556.9\n",
       "2  3        Salvador(BA)      224.6\n",
       "3  4  Belo Horizonte(MG)      210.9\n",
       "4  5       Fortaleza(CE)      201.5"
      ]
     },
     "execution_count": 3,
     "metadata": {},
     "output_type": "execute_result"
    }
   ],
   "source": [
    "df = pd.read_csv('dados/cd_municipios.csv', usecols=[1, 2, 3])\n",
    "df.head()"
   ]
  },
  {
   "cell_type": "code",
   "execution_count": 8,
   "metadata": {},
   "outputs": [
    {
     "data": {
      "image/png": "[encoded data removed]",
      "text/plain": [
       "<Figure size 1000x500 with 1 Axes>"
      ]
     },
     "metadata": {},
     "output_type": "display_data"
    }
   ],
   "source": [
    "fig, axes = plt.subplots(figsize=(10, 5))\n",
    "\n",
    "sns.boxplot(data=df, x=\"populacao\", showmeans=True)\n",
    "plt.show()"
   ]
  },
  {
   "attachments": {},
   "cell_type": "markdown",
   "metadata": {},
   "source": [
    "A distribuição não é simétrica, possuindo uma assimetria a direita. Além disso, há dois *outliers*, que correspondem aos municípios de São Paulo (SP) e Rio de Janeiro (RJ), as duas cidades mais populosas do Brasil."
   ]
  },
  {
   "attachments": {},
   "cell_type": "markdown",
   "metadata": {},
   "source": [
    "## Exercício 3.16"
   ]
  },
  {
   "cell_type": "code",
   "execution_count": 42,
   "metadata": {},
   "outputs": [
    {
     "data": {
      "text/html": [
       "<div>\n",
       "<style scoped>\n",
       "    .dataframe tbody tr th:only-of-type {\n",
       "        vertical-align: middle;\n",
       "    }\n",
       "\n",
       "    .dataframe tbody tr th {\n",
       "        vertical-align: top;\n",
       "    }\n",
       "\n",
       "    .dataframe thead th {\n",
       "        text-align: right;\n",
       "    }\n",
       "</style>\n",
       "<table border=\"1\" class=\"dataframe\">\n",
       "  <thead>\n",
       "    <tr style=\"text-align: right;\">\n",
       "      <th></th>\n",
       "      <th>Vendas Semanais</th>\n",
       "      <th>N. de vendedores</th>\n",
       "      <th>Representatividade %</th>\n",
       "    </tr>\n",
       "  </thead>\n",
       "  <tbody>\n",
       "    <tr>\n",
       "      <th>0</th>\n",
       "      <td>(30, 35]</td>\n",
       "      <td>2</td>\n",
       "      <td>1.0</td>\n",
       "    </tr>\n",
       "    <tr>\n",
       "      <th>1</th>\n",
       "      <td>(35, 40]</td>\n",
       "      <td>10</td>\n",
       "      <td>5.0</td>\n",
       "    </tr>\n",
       "    <tr>\n",
       "      <th>2</th>\n",
       "      <td>(40, 45]</td>\n",
       "      <td>18</td>\n",
       "      <td>9.0</td>\n",
       "    </tr>\n",
       "    <tr>\n",
       "      <th>3</th>\n",
       "      <td>(45, 50]</td>\n",
       "      <td>50</td>\n",
       "      <td>25.0</td>\n",
       "    </tr>\n",
       "    <tr>\n",
       "      <th>4</th>\n",
       "      <td>(50, 55]</td>\n",
       "      <td>70</td>\n",
       "      <td>35.0</td>\n",
       "    </tr>\n",
       "    <tr>\n",
       "      <th>5</th>\n",
       "      <td>(55, 60]</td>\n",
       "      <td>30</td>\n",
       "      <td>15.0</td>\n",
       "    </tr>\n",
       "    <tr>\n",
       "      <th>6</th>\n",
       "      <td>(60, 65]</td>\n",
       "      <td>18</td>\n",
       "      <td>9.0</td>\n",
       "    </tr>\n",
       "    <tr>\n",
       "      <th>7</th>\n",
       "      <td>(65, 70]</td>\n",
       "      <td>2</td>\n",
       "      <td>1.0</td>\n",
       "    </tr>\n",
       "  </tbody>\n",
       "</table>\n",
       "</div>"
      ],
      "text/plain": [
       "  Vendas Semanais  N. de vendedores  Representatividade %\n",
       "0        (30, 35]                 2                   1.0\n",
       "1        (35, 40]                10                   5.0\n",
       "2        (40, 45]                18                   9.0\n",
       "3        (45, 50]                50                  25.0\n",
       "4        (50, 55]                70                  35.0\n",
       "5        (55, 60]                30                  15.0\n",
       "6        (60, 65]                18                   9.0\n",
       "7        (65, 70]                 2                   1.0"
      ]
     },
     "execution_count": 42,
     "metadata": {},
     "output_type": "execute_result"
    }
   ],
   "source": [
    "\n",
    "bins = [\n",
    "            \"(30, 35]\",\n",
    "            \"(35, 40]\",\n",
    "            \"(40, 45]\",\n",
    "            \"(45, 50]\",\n",
    "            \"(50, 55]\",\n",
    "            \"(55, 60]\",\n",
    "            \"(60, 65]\",\n",
    "            \"(65, 70]\",\n",
    "        ]\n",
    "values = np.array([2, 10, 18, 50, 70, 30, 18, 2])\n",
    "\n",
    "df = pd.DataFrame(\n",
    "    {\n",
    "        \"Vendas Semanais\": bins,\n",
    "        \"N. de vendedores\": values,\n",
    "        \"Representatividade %\": (values / values.sum()) * 100\n",
    "    }\n",
    ")\n",
    "\n",
    "df"
   ]
  },
  {
   "cell_type": "code",
   "execution_count": 37,
   "metadata": {},
   "outputs": [
    {
     "data": {
      "image/png": "[encoded data removed]",
      "text/plain": [
       "<Figure size 640x480 with 1 Axes>"
      ]
     },
     "metadata": {},
     "output_type": "display_data"
    }
   ],
   "source": [
    "sns.barplot(data=df, x=\"Vendas Semanais\", y=\"N. de vendedores\")\n",
    "\n",
    "plt.show()"
   ]
  },
  {
   "cell_type": "code",
   "execution_count": 38,
   "metadata": {},
   "outputs": [
    {
     "name": "stdout",
     "output_type": "stream",
     "text": [
      "As medidas de posição central e dispersão são: \n",
      "\tMédia: 51.2\n",
      "\tMediana: 52.5\n",
      "\tDesvio-padrão: 6.618912297349165\n",
      "\n"
     ]
    }
   ],
   "source": [
    "s = [32.5] * 2 + [37.5] * 10 + [42.5] * 18 + [47.5] * 50 + [52.5] * 70 + [57.5] * 30 + [62.5] * 18 + [67.5] * 2\n",
    "\n",
    "print(f\"As medidas de posição central e dispersão são: \\n\"\n",
    "      f\"\\tMédia: {np.mean(s)}\\n\"\n",
    "      f\"\\tMediana: {np.median(s)}\\n\"\n",
    "      f\"\\tDesvio-padrão: {np.std(s)}\\n\")"
   ]
  },
  {
   "attachments": {},
   "cell_type": "markdown",
   "metadata": {},
   "source": [
    "## Exercícios 3.22"
   ]
  },
  {
   "cell_type": "code",
   "execution_count": 17,
   "metadata": {},
   "outputs": [],
   "source": [
    "s = [\n",
    "    42, \n",
    "    35, \n",
    "    27, \n",
    "    21,\n",
    "    55,\n",
    "    18,\n",
    "    27,\n",
    "    30,\n",
    "    21,\n",
    "    24\n",
    "]\n"
   ]
  },
  {
   "cell_type": "code",
   "execution_count": 19,
   "metadata": {},
   "outputs": [
    {
     "name": "stdout",
     "output_type": "stream",
     "text": [
      "As medidas de posição central e dispersão são: \n",
      "\tMédia: 30.0\n",
      "\tMediana: 27.0\n",
      "\tDesvio-padrão: 10.742439201596628\n",
      "\tPrimeiro quartil: 21.75\n",
      "\tTerceiro quartil: 33.75\n",
      "\tMaior valor: 55\n",
      "\tMenor valor: 18\n",
      "\n"
     ]
    }
   ],
   "source": [
    "print(f\"As medidas de posição central e dispersão são: \\n\"\n",
    "      f\"\\tMédia: {np.mean(s)}\\n\"\n",
    "      f\"\\tMediana: {np.median(s)}\\n\"\n",
    "      f\"\\tDesvio-padrão: {np.std(s)}\\n\"\n",
    "      f\"\\tPrimeiro quartil: {np.quantile(s, 0.25)}\\n\"\n",
    "      f\"\\tTerceiro quartil: {np.quantile(s, 0.75)}\\n\"\n",
    "      f\"\\tMaior valor: {np.max(s)}\\n\"\n",
    "      f\"\\tMenor valor: {np.min(s)}\\n\")"
   ]
  },
  {
   "attachments": {},
   "cell_type": "markdown",
   "metadata": {},
   "source": [
    "## Exercício 3.26\n",
    "\n",
    "- [Função de Densidade de Probabilidade](https://pt.wikipedia.org/wiki/Fun%C3%A7%C3%A3o_densidade)\n",
    "- [Função de Distribuição Acumulada](https://pt.wikipedia.org/wiki/Fun%C3%A7%C3%A3o_distribui%C3%A7%C3%A3o_acumulada)\n",
    "- [Inversa da Função de Distribuição Acumulada](https://support.minitab.com/pt-br/minitab/20/help-and-how-to/probability-distributions-random-data-and-resampling-analyses/supporting-topics/basics/using-the-inverse-cumulative-distribution-function-icdf/)\n",
    "- [*\"How to find percentage of values within given range in python?\"* | StackOverflow](https://stackoverflow.com/questions/65982154/how-to-find-percentage-of-values-within-given-range-in-python)\n",
    "- [Documentação Scipy](https://docs.scipy.org/doc/scipy/reference/generated/scipy.stats.norm.html#scipy.stats.norm)"
   ]
  },
  {
   "cell_type": "code",
   "execution_count": 20,
   "metadata": {},
   "outputs": [],
   "source": [
    "s = [970] * 60 + [990] * 160 + [1010] * 280 + [1030] * 260 + [1050] * 160 + [1070] * 80"
   ]
  },
  {
   "cell_type": "code",
   "execution_count": 24,
   "metadata": {},
   "outputs": [
    {
     "data": {
      "image/png": "[encoded data removed]",
      "text/plain": [
       "<Figure size 640x480 with 1 Axes>"
      ]
     },
     "metadata": {},
     "output_type": "display_data"
    }
   ],
   "source": [
    "sns.kdeplot(s)\n",
    "\n",
    "plt.axvline(x=np.mean(s), color=\"blue\")\n",
    "plt.axvline(x=np.median(s), color=\"red\")\n",
    "\n",
    "plt.show()"
   ]
  },
  {
   "cell_type": "code",
   "execution_count": 22,
   "metadata": {},
   "outputs": [
    {
     "name": "stdout",
     "output_type": "stream",
     "text": [
      "As medidas de posição central e dispersão são: \n",
      "\tMédia: 1020.8\n",
      "\tMediana: 1020.0\n",
      "\tDesvio-padrão: 26.293725487271672\n",
      "\n"
     ]
    }
   ],
   "source": [
    "print(f\"As medidas de posição central e dispersão são: \\n\"\n",
    "      f\"\\tMédia: {np.mean(s)}\\n\"\n",
    "      f\"\\tMediana: {np.median(s)}\\n\"\n",
    "      f\"\\tDesvio-padrão: {np.std(s)}\\n\")"
   ]
  },
  {
   "cell_type": "code",
   "execution_count": 23,
   "metadata": {},
   "outputs": [
    {
     "name": "stdout",
     "output_type": "stream",
     "text": [
      "As divisões entre as categorias são: \n",
      "\t[A, B): 990.0\n",
      "\t[B, C): 1020.0\n",
      "\t[C, D): 1050.0\n",
      "\n"
     ]
    }
   ],
   "source": [
    "print(f\"As divisões entre as categorias são: \\n\"\n",
    "      f\"\\t[A, B): {np.quantile(s, 0.20)}\\n\"\n",
    "      f\"\\t[B, C): {np.quantile(s, 0.50)}\\n\"\n",
    "      f\"\\t[C, D): {np.quantile(s, 0.80)}\\n\")"
   ]
  },
  {
   "cell_type": "code",
   "execution_count": 47,
   "metadata": {},
   "outputs": [],
   "source": [
    "import scipy.stats as sps\n",
    "\n",
    "inferior_limit = np.mean(s) - (2 * np.std(s))\n",
    "superior_limit = np.mean(s) + (1.5 * np.std(s))\n",
    "\n",
    "distribution = sps.norm(loc=np.mean(s), scale=np.std(s))\n",
    "\n",
    "X = np.linspace(960, 1080)\n",
    "PDF = distribution.pdf(X)\n",
    "CDF = distribution.cdf(X)\n"
   ]
  },
  {
   "cell_type": "code",
   "execution_count": 50,
   "metadata": {},
   "outputs": [
    {
     "data": {
      "image/png": "[encoded data removed]",
      "text/plain": [
       "<Figure size 1200x500 with 2 Axes>"
      ]
     },
     "metadata": {},
     "output_type": "display_data"
    }
   ],
   "source": [
    "fig, (ax, bx) = plt.subplots(1, 2, figsize=(12, 5))\n",
    "\n",
    "ax.plot(X, PDF)\n",
    "ax.fill_between(x=X[(X >= 960) & (X <= inferior_limit)],\n",
    "                y1=PDF[(X >= 960) & (X <= inferior_limit)],\n",
    "                alpha=.25\n",
    ")\n",
    "ax.fill_between(x=X[(X <= 1080) & (X >= superior_limit)],\n",
    "                y1=PDF[(X <= 1080) & (X >= superior_limit)],\n",
    "                alpha=.25\n",
    ")\n",
    "\n",
    "\n",
    "bx.plot(X, CDF)\n",
    "bx.axhline(distribution.cdf(inferior_limit), color='b', ls='--')\n",
    "bx.axhline(distribution.cdf(superior_limit), color='b', ls='--')\n",
    "\n",
    "plt.show()\n"
   ]
  },
  {
   "cell_type": "code",
   "execution_count": 55,
   "metadata": {},
   "outputs": [
    {
     "name": "stdout",
     "output_type": "stream",
     "text": [
      "A percentagem de aves separadas para receber ração reforçada é 2.28%.\n",
      "A percentagem de aves separadas para reprodução é 6.68%.\n"
     ]
    }
   ],
   "source": [
    "print(f\"A percentagem de aves separadas para receber ração reforçada é {distribution.cdf(inferior_limit) * 100:.2f}%.\\n\"\n",
    "      f\"A percentagem de aves separadas para reprodução é {(1 - distribution.cdf(superior_limit)) * 100:.2f}%.\")"
   ]
  },
  {
   "attachments": {},
   "cell_type": "markdown",
   "metadata": {},
   "source": [
    "## Exercício 3.27"
   ]
  },
  {
   "cell_type": "code",
   "execution_count": 56,
   "metadata": {},
   "outputs": [
    {
     "name": "stdout",
     "output_type": "stream",
     "text": [
      "As medidas de posição central e dispersão são: \n",
      "\tMédia: 22.48\n",
      "\tMediana: 21.0\n",
      "\tDesvio-padrão: 3.8274795884498194\n",
      "\n"
     ]
    }
   ],
   "source": [
    "s = [19] * 18 + [21] * 12 + [24] * 10 + [28] * 8 + [33] * 2\n",
    "\n",
    "print(f\"As medidas de posição central e dispersão são: \\n\"\n",
    "      f\"\\tMédia: {np.mean(s)}\\n\"\n",
    "      f\"\\tMediana: {np.median(s)}\\n\"\n",
    "      f\"\\tDesvio-padrão: {np.std(s)}\\n\")"
   ]
  },
  {
   "attachments": {},
   "cell_type": "markdown",
   "metadata": {},
   "source": [
    "## Exercício 3.29 e 3.31"
   ]
  },
  {
   "cell_type": "code",
   "execution_count": 63,
   "metadata": {},
   "outputs": [
    {
     "name": "stdout",
     "output_type": "stream",
     "text": [
      "Variância da Corretora A: 55.645061728395056\n",
      "Variância da Corretora B: 9.578231292517009\n",
      "Quociente F: 5.809534143518517\n",
      "Teste: 0.02973605713390638\n"
     ]
    }
   ],
   "source": [
    "A = [45, 60, 54, 62, 55, 70, 38, 48, 64, 55, 56, 55, 54, 59, 48, 65, 55, 60]\n",
    "B = [57, 55, 58, 50, 52, 59, 59, 55, 56, 61, 52, 53, 57, 57, 50, 55, 58, 54, 59, 51, 56]\n",
    "\n",
    "S2 = ((len(A) - 1) * np.var(A) + (len(B) - 1) * np.var(B)) / (len(A) + len(B) - 2)\n",
    "SQR = ((1 / len(A)) + (1 / len(B))) ** (1 / 2)\n",
    "\n",
    "print(f\"Variância da Corretora A: {np.var(A)}\\n\"\n",
    "      f\"Variância da Corretora B: {np.var(B)}\\n\"\n",
    "      f\"Quociente F: {np.var(A) / np.var(B)}\\n\"\n",
    "      f\"Teste: {(np.mean(A) - np.mean(B)) / (S2 * SQR)}\")"
   ]
  },
  {
   "attachments": {},
   "cell_type": "markdown",
   "metadata": {},
   "source": [
    "1. Se o quociente $F = \\frac{var(X | A)}{var(X | B)}$ fosse próximo de 1 eu diria que as duas populações são homogêneas.\n",
    "2. O teste revela que os desempenhos são semelhantes."
   ]
  },
  {
   "attachments": {},
   "cell_type": "markdown",
   "metadata": {},
   "source": [
    "## Exercício 3.37"
   ]
  },
  {
   "cell_type": "code",
   "execution_count": 65,
   "metadata": {},
   "outputs": [
    {
     "data": {
      "text/html": [
       "<div>\n",
       "<style scoped>\n",
       "    .dataframe tbody tr th:only-of-type {\n",
       "        vertical-align: middle;\n",
       "    }\n",
       "\n",
       "    .dataframe tbody tr th {\n",
       "        vertical-align: top;\n",
       "    }\n",
       "\n",
       "    .dataframe thead th {\n",
       "        text-align: right;\n",
       "    }\n",
       "</style>\n",
       "<table border=\"1\" class=\"dataframe\">\n",
       "  <thead>\n",
       "    <tr style=\"text-align: right;\">\n",
       "      <th></th>\n",
       "      <th>SECAO</th>\n",
       "      <th>ADM</th>\n",
       "      <th>Direito</th>\n",
       "      <th>Redacao</th>\n",
       "      <th>Estatistica</th>\n",
       "      <th>Ingles</th>\n",
       "      <th>Metodologia</th>\n",
       "      <th>Politica</th>\n",
       "      <th>Economia</th>\n",
       "    </tr>\n",
       "  </thead>\n",
       "  <tbody>\n",
       "    <tr>\n",
       "      <th>0</th>\n",
       "      <td>P</td>\n",
       "      <td>8</td>\n",
       "      <td>9</td>\n",
       "      <td>8.6</td>\n",
       "      <td>9</td>\n",
       "      <td>B</td>\n",
       "      <td>A</td>\n",
       "      <td>9.0</td>\n",
       "      <td>8.5</td>\n",
       "    </tr>\n",
       "    <tr>\n",
       "      <th>1</th>\n",
       "      <td>P</td>\n",
       "      <td>8</td>\n",
       "      <td>9</td>\n",
       "      <td>7.0</td>\n",
       "      <td>9</td>\n",
       "      <td>B</td>\n",
       "      <td>C</td>\n",
       "      <td>6.5</td>\n",
       "      <td>8.0</td>\n",
       "    </tr>\n",
       "    <tr>\n",
       "      <th>2</th>\n",
       "      <td>P</td>\n",
       "      <td>8</td>\n",
       "      <td>9</td>\n",
       "      <td>8.0</td>\n",
       "      <td>8</td>\n",
       "      <td>D</td>\n",
       "      <td>B</td>\n",
       "      <td>9.0</td>\n",
       "      <td>8.5</td>\n",
       "    </tr>\n",
       "    <tr>\n",
       "      <th>3</th>\n",
       "      <td>P</td>\n",
       "      <td>6</td>\n",
       "      <td>9</td>\n",
       "      <td>8.6</td>\n",
       "      <td>8</td>\n",
       "      <td>D</td>\n",
       "      <td>C</td>\n",
       "      <td>6.0</td>\n",
       "      <td>8.5</td>\n",
       "    </tr>\n",
       "    <tr>\n",
       "      <th>4</th>\n",
       "      <td>P</td>\n",
       "      <td>8</td>\n",
       "      <td>9</td>\n",
       "      <td>8.0</td>\n",
       "      <td>9</td>\n",
       "      <td>A</td>\n",
       "      <td>A</td>\n",
       "      <td>6.5</td>\n",
       "      <td>9.0</td>\n",
       "    </tr>\n",
       "  </tbody>\n",
       "</table>\n",
       "</div>"
      ],
      "text/plain": [
       "  SECAO  ADM  Direito  Redacao  Estatistica Ingles Metodologia  Politica  \\\n",
       "0     P    8        9      8.6            9      B           A       9.0   \n",
       "1     P    8        9      7.0            9      B           C       6.5   \n",
       "2     P    8        9      8.0            8      D           B       9.0   \n",
       "3     P    6        9      8.6            8      D           C       6.0   \n",
       "4     P    8        9      8.0            9      A           A       6.5   \n",
       "\n",
       "   Economia  \n",
       "0       8.5  \n",
       "1       8.0  \n",
       "2       8.5  \n",
       "3       8.5  \n",
       "4       9.0  "
      ]
     },
     "execution_count": 65,
     "metadata": {},
     "output_type": "execute_result"
    }
   ],
   "source": [
    "df = pd.DataFrame(\n",
    "    dict(\n",
    "        SECAO=[\n",
    "            \"P\", \"P\", \"P\", \"P\", \"P\", \"P\", \"P\", \"T\", \"T\", \"T\", \"T\", \"T\", \"T\", \"T\", \"V\", \"V\", \"V\", \"V\", \"V\", \"V\", \"V\", \"V\", \"V\", \"V\", \"V\",\n",
    "        ],\n",
    "        ADM=[\n",
    "            8, 8, 8, 6, 8, 8, 8, 10, 8, 10, 8, 8, 6, 10, 8, 8, 8, 6, 6, 6, 8, 6, 8, 8, 8,\n",
    "        ],\n",
    "        Direito=[\n",
    "            9, 9, 9, 9, 9, 9, 9, 9, 9, 9, 9, 9, 9, 9, 9, 9, 9, 9, 9, 9, 9, 9, 9, 9, 9,\n",
    "        ],\n",
    "        Redacao=[\n",
    "            8.6, 7, 8, 8.6, 8, 8.5, 8.2, 7.5, 9.4, 7.9, 8.6, 8.3, 7, 8.6, 8.6, 9.5, 6.3, 7.6, 6.8, 7.5, 7.7, 8.7, 7.3, 8.5, 7,\n",
    "        ],\n",
    "        Estatistica=[\n",
    "            9, 9, 8, 8, 9, 10, 8, 8, 9, 8, 10, 7, 7, 9, 9, 7, 8, 9, 4, 7, 7, 8, 10, 9, 9,\n",
    "        ],\n",
    "        Ingles=[\n",
    "            \"B\", \"B\", \"D\", \"D\", \"A\", \"B\", \"D\", \"B\", \"B\", \"B\", \"C\", \"D\", \"B\", \"A\", \"C\", \"A\", \"D\", \"C\", \"D\", \"C\", \"D\", \"C\", \"C\", \"A\", \"B\",\n",
    "        ],\n",
    "        Metodologia=[\n",
    "            \"A\", \"C\", \"B\", \"C\", \"A\", \"A\", \"C\", \"C\", \"B\", \"C\", \"B\", \"B\", \"C\", \"B\", \"B\", \"A\", \"C\", \"C\", \"C\", \"B\", \"B\", \"A\", \"C\", \"A\", \"A\",\n",
    "        ],\n",
    "        Politica=[\n",
    "            9, 6.5, 9, 6, 6.5, 6.5, 9, 6, 10, 9, 10, 6.5, 6, 10, 10, 9, 10, 6, 6, 6, 6.5, 6, 9, 6.5, 9,\n",
    "        ],\n",
    "        Economia=[\n",
    "            8.5, 8, 8.5, 8.5, 9, 9.5, 7, 8.5, 8, 7.5, 8.5, 8, 8.5, 7.5, 7, 7.5, 7.5, 8.5, 9.5, 8.5, 8, 9, 7, 9, 8.5,\n",
    "        ],\n",
    "    )\n",
    ")\n",
    "\n",
    "df.head()"
   ]
  },
  {
   "cell_type": "code",
   "execution_count": 82,
   "metadata": {},
   "outputs": [
    {
     "name": "stdout",
     "output_type": "stream",
     "text": [
      "Notas padronizadas: [0.58, 0.58, -0.18, -0.18, 0.58, 1.35, -0.18, -0.18, 0.58, -0.18, 1.35, -0.95, -0.95, 0.58, 0.58, -0.95, -0.18, 0.58, -3.26, -0.95, -0.95, -0.18, 1.35, 0.58, 0.58]\n",
      "Média padronizada: -0.0000000000\n",
      "Desvio padrão: 0.9798\n",
      "Limite inferior (média - 2dp(X)): -1.9596\n",
      "Limite superior (média + 2dp(X)): 1.9596\n",
      "Casos atípicos: [-3.2615384615384615]\n",
      "\n"
     ]
    }
   ],
   "source": [
    "\n",
    "notas_padronizadas = (df[\"Estatistica\"] - df[\"Estatistica\"].mean()) / df[\"Estatistica\"].std()\n",
    "inferior_limit = np.mean(notas_padronizadas) - (2 * np.std(notas_padronizadas))\n",
    "superior_limit = np.mean(notas_padronizadas) + (2 * np.std(notas_padronizadas))\n",
    "casos_atipicos = list(notas_padronizadas[(notas_padronizadas < inferior_limit) | (notas_padronizadas > superior_limit)])\n",
    "\n",
    "\n",
    "print(f\"Notas padronizadas: {[round(i, 2) for i in notas_padronizadas]}\\n\"\n",
    "      f\"Média padronizada: {np.mean(notas_padronizadas):.10f}\\n\"\n",
    "      f\"Desvio padrão: {np.std(notas_padronizadas):.4f}\\n\"\n",
    "      f\"Limite inferior (média - 2dp(X)): {inferior_limit:.4f}\\n\"\n",
    "      f\"Limite superior (média + 2dp(X)): {superior_limit:.4f}\\n\"\n",
    "      f\"Casos atípicos: {casos_atipicos}\\n\")"
   ]
  },
  {
   "cell_type": "code",
   "execution_count": 85,
   "metadata": {},
   "outputs": [
    {
     "name": "stdout",
     "output_type": "stream",
     "text": [
      "Nota em Estatistica: 0.5846153846153844\n",
      "Nota em Direito: nan\n",
      "Nota em Politica 0.7418148644845932\n",
      "Comparando o Aluno 1 com sua turma é possível ver que ele se saiu melhor em Política.\n"
     ]
    }
   ],
   "source": [
    "notas_estat = (df[\"Estatistica\"] - df[\"Estatistica\"].mean()) / df[\"Estatistica\"].std()\n",
    "notas_direito = (df[\"Direito\"] - df[\"Direito\"].mean()) / df[\"Direito\"].std()\n",
    "notas_politica = (df[\"Politica\"] - df[\"Politica\"].mean()) / df[\"Politica\"].std()\n",
    "\n",
    "print(f\"Nota em Estatistica: {notas_estat[0]}\\n\"\n",
    "      f\"Nota em Direito: {notas_direito[0]}\\n\"\n",
    "      f\"Nota em Politica {notas_politica[0]}\\n\"\n",
    "      f\"Comparando o Aluno 1 com sua turma é possível ver que ele se saiu melhor em Política.\")"
   ]
  },
  {
   "cell_type": "code",
   "execution_count": null,
   "metadata": {},
   "outputs": [],
   "source": []
  }
 ],
 "metadata": {
  "kernelspec": {
   "display_name": "Python 3 (ipykernel)",
   "language": "python",
   "name": "python3"
  },
  "language_info": {
   "codemirror_mode": {
    "name": "ipython",
    "version": 3
   },
   "file_extension": ".py",
   "mimetype": "text/x-python",
   "name": "python",
   "nbconvert_exporter": "python",
   "pygments_lexer": "ipython3",
   "version": "3.10.7"
  },
  "vscode": {
   "interpreter": {
    "hash": "5fe3e6f0cdaab8afdc61c52912fda83f7c0a71baaea1897dd7498e2df01e69ec"
   }
  }
 },
 "nbformat": 4,
 "nbformat_minor": 4
}
