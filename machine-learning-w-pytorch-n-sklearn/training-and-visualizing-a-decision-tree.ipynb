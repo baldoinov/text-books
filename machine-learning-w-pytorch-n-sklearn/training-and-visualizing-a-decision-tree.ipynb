{
 "cells": [
  {
   "cell_type": "markdown",
   "metadata": {},
   "source": [
    "# Grupo de Estudos - LAE IA & CD\n",
    "\n",
    "## \n",
    "\n",
    "[Projeto guiado](https://www.coursera.org/projects/employee-turnover-scikit-learn)\n",
    "[]\n",
    "---"
   ]
  },
  {
   "cell_type": "markdown",
   "metadata": {},
   "source": [
    "# Grupo de Estudos - LAE IA & CD - 14/09/2023\n",
    "\n",
    "## _Training and Visualizing a Decision Tree_\n",
    "\n",
    "[Projeto guiado - Training & Visualizing a Decision Tree](https://www.coursera.org/projects/training-and-visualizing-a-decision-tree)\n",
    "\n",
    "<!-- [Projeto guiado](https://www.coursera.org/projects/employee-turnover-scikit-learn) -->\n",
    "\n",
    "[Documentação do Scikit-Learn](https://scikit-learn.org/stable/)\n",
    "\n",
    "---"
   ]
  },
  {
   "cell_type": "code",
   "execution_count": null,
   "metadata": {},
   "outputs": [],
   "source": []
  }
 ],
 "metadata": {
  "language_info": {
   "name": "python"
  },
  "orig_nbformat": 4
 },
 "nbformat": 4,
 "nbformat_minor": 2
}
