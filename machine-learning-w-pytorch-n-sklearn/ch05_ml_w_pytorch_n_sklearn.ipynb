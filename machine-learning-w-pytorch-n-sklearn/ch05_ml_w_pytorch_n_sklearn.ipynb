{
 "cells": [
  {
   "cell_type": "markdown",
   "metadata": {},
   "source": [
    "# Dimensionality Reduction\n",
    "\n",
    "---"
   ]
  },
  {
   "cell_type": "markdown",
   "metadata": {},
   "source": [
    "## Concepts\n",
    "\n",
    "- Feature Extraction\n",
    "  - PCA\n",
    "    - Eigendecomposition\n",
    "  - LDA\n",
    "  - t-SNE"
   ]
  },
  {
   "cell_type": "markdown",
   "metadata": {},
   "source": [
    "## Functions\n",
    "\n",
    "- `sklearn.decomposition.PCA`\n",
    "- `sklearn.discriminant_analysis.LinearDiscriminantAnalysis`\n",
    "- `sklearn.manifold.TSNE`"
   ]
  },
  {
   "cell_type": "markdown",
   "metadata": {},
   "source": [
    "## Further Reading\n",
    "\n",
    "- PCA Versus LDA by A. M. Martinez and A. C. Kak, IEEE Transactions \n",
    "on Pattern Analysis and Machine Intelligence, 23(2): 228-233, 2001\n",
    "- Visualizing data using t-SNE by Maaten and Hinton, Journal of Machine Learning Research, 2018\n",
    "- [How to Use t-SNE Effectively by Wattenberg, Viegas, and Johnson, Distill, 2016](https://distill.pub/2016/misread-tsne/)\n",
    "- UMAP: Uniform manifold approximation and projection for dimension reduction by McInnes, Healy, and Melville, 2018"
   ]
  },
  {
   "cell_type": "code",
   "execution_count": null,
   "metadata": {},
   "outputs": [],
   "source": []
  }
 ],
 "metadata": {
  "language_info": {
   "name": "python"
  }
 },
 "nbformat": 4,
 "nbformat_minor": 2
}
